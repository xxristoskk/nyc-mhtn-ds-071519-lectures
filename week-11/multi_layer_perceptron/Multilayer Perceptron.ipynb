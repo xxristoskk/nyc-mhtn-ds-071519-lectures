{
 "cells": [
  {
   "cell_type": "markdown",
   "metadata": {},
   "source": [
    "<h1 style='text-align:center'>Multilayer Perceptrons</h1>"
   ]
  },
  {
   "cell_type": "markdown",
   "metadata": {},
   "source": [
    "<img src='images/non-linear-meme.webp'/>"
   ]
  },
  {
   "cell_type": "markdown",
   "metadata": {},
   "source": [
    "How do we learn a non linear decision boundary? "
   ]
  },
  {
   "cell_type": "markdown",
   "metadata": {},
   "source": [
    "<img src='images/non-linear.png'/>"
   ]
  },
  {
   "cell_type": "markdown",
   "metadata": {},
   "source": [
    "By connecting several perceptrons together and introducing non-linear activation functions neural networks can learn more complex functions. For a more intuitive understanding of how this works check out this video: https://www.youtube.com/watch?v=u5GAVdLQyIg"
   ]
  },
  {
   "cell_type": "markdown",
   "metadata": {},
   "source": [
    "## MLP Architecture "
   ]
  },
  {
   "cell_type": "markdown",
   "metadata": {},
   "source": [
    "<img src='images/mlp.png' />"
   ]
  },
  {
   "cell_type": "markdown",
   "metadata": {},
   "source": [
    "## How do MLPs Learn? "
   ]
  },
  {
   "cell_type": "markdown",
   "metadata": {},
   "source": [
    "Similar to regular perceptrons! Make a calculation, see how close it is to the actual answer, adjust weights and try again. "
   ]
  },
  {
   "cell_type": "markdown",
   "metadata": {},
   "source": [
    "### Forward-Propagation  "
   ]
  },
  {
   "cell_type": "markdown",
   "metadata": {},
   "source": [
    "In forward-propagation, the hidden layer(s) multiply each input node by a weight, apply a decision function (activation function) to decide whether fire/activate or not, and the output layer makes the final decision based on inputs from the previously layers fired neurons. "
   ]
  },
  {
   "cell_type": "markdown",
   "metadata": {},
   "source": [
    "### Additional Activation Functions "
   ]
  },
  {
   "cell_type": "markdown",
   "metadata": {},
   "source": [
    "<img src='images/activation.png'/>"
   ]
  },
  {
   "cell_type": "markdown",
   "metadata": {
    "heading_collapsed": true
   },
   "source": [
    "##### Why do we need non-linear activation functions? "
   ]
  },
  {
   "cell_type": "markdown",
   "metadata": {},
   "source": [
    "#### Back-Propagation"
   ]
  },
  {
   "cell_type": "markdown",
   "metadata": {},
   "source": [
    "In back-propagation, we are updating the weights based on our cost function"
   ]
  },
  {
   "cell_type": "markdown",
   "metadata": {},
   "source": [
    "<img src='images/back.png'/>"
   ]
  },
  {
   "cell_type": "markdown",
   "metadata": {},
   "source": [
    "<b>Epochs - When an ENTIRE dataset is passed forward and backward through the neural network \n",
    "\n",
    "Batch size - one epoch is too big to feed to the computer at once so we feed it through in smaller batches and update weights after each batch</b>"
   ]
  },
  {
   "cell_type": "markdown",
   "metadata": {
    "heading_collapsed": true
   },
   "source": [
    "##### What is each node learning? "
   ]
  },
  {
   "cell_type": "markdown",
   "metadata": {
    "hidden": true
   },
   "source": []
  },
  {
   "cell_type": "markdown",
   "metadata": {},
   "source": [
    "## Code"
   ]
  },
  {
   "cell_type": "code",
   "execution_count": 15,
   "metadata": {},
   "outputs": [],
   "source": [
    "import pandas as pd\n",
    "import numpy as np\n",
    "import seaborn as sns\n",
    "import matplotlib.pyplot as plt\n",
    "from keras.models import Sequential\n",
    "from keras.layers import Dense"
   ]
  },
  {
   "cell_type": "code",
   "execution_count": 16,
   "metadata": {},
   "outputs": [
    {
     "data": {
      "text/plain": [
       "<matplotlib.collections.PathCollection at 0x1a2f66d080>"
      ]
     },
     "execution_count": 16,
     "metadata": {},
     "output_type": "execute_result"
    },
    {
     "data": {
      "image/png": "[encoded data removed]",
      "text/plain": [
       "<Figure size 432x288 with 1 Axes>"
      ]
     },
     "metadata": {
      "needs_background": "light"
     },
     "output_type": "display_data"
    }
   ],
   "source": [
    "#generate some non-linearly separrable data \n",
    "n=10000\n",
    "t = np.linspace(0,2,n)\n",
    "x1 = np.sin(np.pi*t) + np.random.normal(0,.005,n)\n",
    "x2 = np.cos(np.pi*t) + np.random.normal(0,.005,n)\n",
    "label = np.ones(n)\n",
    "\n",
    "tdf = pd.DataFrame({'label' : label, 'x1' : x1, 'x2' : x2})\n",
    "\n",
    "t = np.linspace(0,2,n)\n",
    "x1 = .5*np.sin(np.pi*t) + np.random.normal(0,.005,n)\n",
    "x2 = .5*np.cos(np.pi*t) + np.random.normal(0,.005,n)\n",
    "label = 0.*np.ones(n)\n",
    "\n",
    "df = pd.concat([tdf, pd.DataFrame({'label' : label, 'x1' : x1, 'x2' : x2})])\n",
    "plt.scatter(df['x1'],df['x2'], color=df['label'].apply(lambda x :  'b' if x > .5 else 'r'))"
   ]
  },
  {
   "cell_type": "code",
   "execution_count": 17,
   "metadata": {},
   "outputs": [],
   "source": [
    "#separate features and labels\n",
    "X = df[['x1','x2']]\n",
    "Y = df['label']"
   ]
  },
  {
   "cell_type": "code",
   "execution_count": 18,
   "metadata": {},
   "outputs": [],
   "source": [
    "#train test split\n",
    "from sklearn.model_selection import train_test_split\n",
    "X_model, X_test, y_model, y_test = train_test_split(X,Y, test_size=0.20, random_state=123)"
   ]
  },
  {
   "cell_type": "code",
   "execution_count": 19,
   "metadata": {},
   "outputs": [],
   "source": [
    "#initialize Sequential model\n",
    "model = Sequential()\n",
    "#intitalize input layer \n",
    "model.add(Dense(8, input_dim=2, activation='linear'))\n",
    "#hidden layer with relu activation\n",
    "model.add(Dense(8, activation='tanh'))\n",
    "#output layer / decision layer \n",
    "model.add(Dense(1, activation='sigmoid'))"
   ]
  },
  {
   "cell_type": "code",
   "execution_count": 20,
   "metadata": {},
   "outputs": [],
   "source": [
    "model.compile(loss='binary_crossentropy',  optimizer='adam', metrics=['accuracy'])"
   ]
  },
  {
   "cell_type": "code",
   "execution_count": 21,
   "metadata": {},
   "outputs": [
    {
     "name": "stdout",
     "output_type": "stream",
     "text": [
      "Epoch 1/20\n",
      "16000/16000 [==============================] - 0s 16us/step - loss: 0.6882 - accuracy: 0.5726\n",
      "Epoch 2/20\n",
      "16000/16000 [==============================] - 0s 8us/step - loss: 0.6568 - accuracy: 0.7340\n",
      "Epoch 3/20\n",
      "16000/16000 [==============================] - 0s 7us/step - loss: 0.5781 - accuracy: 0.8385\n",
      "Epoch 4/20\n",
      "16000/16000 [==============================] - 0s 8us/step - loss: 0.4738 - accuracy: 0.9145\n",
      "Epoch 5/20\n",
      "16000/16000 [==============================] - 0s 7us/step - loss: 0.3793 - accuracy: 0.9996\n",
      "Epoch 6/20\n",
      "16000/16000 [==============================] - 0s 8us/step - loss: 0.3109 - accuracy: 1.0000\n",
      "Epoch 7/20\n",
      "16000/16000 [==============================] - 0s 7us/step - loss: 0.2620 - accuracy: 1.0000\n",
      "Epoch 8/20\n",
      "16000/16000 [==============================] - 0s 8us/step - loss: 0.2255 - accuracy: 1.0000\n",
      "Epoch 9/20\n",
      "16000/16000 [==============================] - 0s 7us/step - loss: 0.1972 - accuracy: 1.0000\n",
      "Epoch 10/20\n",
      "16000/16000 [==============================] - 0s 8us/step - loss: 0.1744 - accuracy: 1.0000\n",
      "Epoch 11/20\n",
      "16000/16000 [==============================] - 0s 7us/step - loss: 0.1556 - accuracy: 1.0000\n",
      "Epoch 12/20\n",
      "16000/16000 [==============================] - 0s 8us/step - loss: 0.1396 - accuracy: 1.0000\n",
      "Epoch 13/20\n",
      "16000/16000 [==============================] - 0s 8us/step - loss: 0.1260 - accuracy: 1.0000\n",
      "Epoch 14/20\n",
      "16000/16000 [==============================] - 0s 8us/step - loss: 0.1140 - accuracy: 1.0000\n",
      "Epoch 15/20\n",
      "16000/16000 [==============================] - 0s 8us/step - loss: 0.1036 - accuracy: 1.0000\n",
      "Epoch 16/20\n",
      "16000/16000 [==============================] - 0s 8us/step - loss: 0.0945 - accuracy: 1.0000\n",
      "Epoch 17/20\n",
      "16000/16000 [==============================] - 0s 7us/step - loss: 0.0864 - accuracy: 1.0000\n",
      "Epoch 18/20\n",
      "16000/16000 [==============================] - 0s 8us/step - loss: 0.0791 - accuracy: 1.0000\n",
      "Epoch 19/20\n",
      "16000/16000 [==============================] - 0s 7us/step - loss: 0.0726 - accuracy: 1.0000\n",
      "Epoch 20/20\n",
      "16000/16000 [==============================] - 0s 8us/step - loss: 0.0668 - accuracy: 1.0000\n"
     ]
    },
    {
     "data": {
      "text/plain": [
       "<keras.callbacks.callbacks.History at 0x1a2fa98ac8>"
      ]
     },
     "execution_count": 21,
     "metadata": {},
     "output_type": "execute_result"
    }
   ],
   "source": [
    "model.fit(X_model, y_model, epochs=20, batch_size=100)"
   ]
  },
  {
   "cell_type": "code",
   "execution_count": 8,
   "metadata": {},
   "outputs": [
    {
     "name": "stdout",
     "output_type": "stream",
     "text": [
      "4000/4000 [==============================] - 0s 13us/step\n"
     ]
    },
    {
     "data": {
      "text/plain": [
       "[0.005403320331126451, 1.0]"
      ]
     },
     "execution_count": 8,
     "metadata": {},
     "output_type": "execute_result"
    }
   ],
   "source": [
    "model.evaluate(X_test, y_test)"
   ]
  },
  {
   "cell_type": "markdown",
   "metadata": {},
   "source": [
    "## Optimization and Regularization"
   ]
  },
  {
   "cell_type": "markdown",
   "metadata": {},
   "source": [
    "### L1 and L2 Regularization"
   ]
  },
  {
   "cell_type": "markdown",
   "metadata": {
    "heading_collapsed": true
   },
   "source": [
    "### Dropout Regularization"
   ]
  },
  {
   "cell_type": "markdown",
   "metadata": {
    "hidden": true
   },
   "source": [
    "<img src='images/thanos.png'/>"
   ]
  },
  {
   "cell_type": "markdown",
   "metadata": {},
   "source": [
    "### Optimization "
   ]
  },
  {
   "cell_type": "markdown",
   "metadata": {},
   "source": [
    "- Optimizers \n",
    "- Number of nodes\n",
    "- Number of layers\n",
    "- Number of Epochs \n",
    "- Batch size \n",
    "- Learning Rate\n",
    "- Different Activation Functions\n",
    "- Scaling/Normalizing Data"
   ]
  },
  {
   "cell_type": "markdown",
   "metadata": {},
   "source": [
    "Optimization and Regularization"
   ]
  },
  {
   "cell_type": "markdown",
   "metadata": {},
   "source": [
    "## Resources"
   ]
  },
  {
   "cell_type": "markdown",
   "metadata": {},
   "source": [
    "https://www.youtube.com/watch?v=u5GAVdLQyIg\n",
    "\n",
    "https://www.youtube.com/watch?v=aircAruvnKk&list=PLZHQObOWTQDNU6R1_67000Dx_ZCJB-3pi\n",
    "\n",
    "https://www.coursera.org/learn/neural-networks-deep-learning/home/welcome\n",
    "\n",
    "https://towardsdatascience.com/optimizing-neural-networks-where-to-start-5a2ed38c8345"
   ]
  }
 ],
 "metadata": {
  "kernelspec": {
   "display_name": "Python 3",
   "language": "python",
   "name": "python3"
  },
  "language_info": {
   "codemirror_mode": {
    "name": "ipython",
    "version": 3
   },
   "file_extension": ".py",
   "mimetype": "text/x-python",
   "name": "python",
   "nbconvert_exporter": "python",
   "pygments_lexer": "ipython3",
   "version": "3.7.3"
  }
 },
 "nbformat": 4,
 "nbformat_minor": 2
}
