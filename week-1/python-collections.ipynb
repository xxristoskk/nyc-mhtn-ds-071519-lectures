{
 "cells": [
  {
   "cell_type": "markdown",
   "metadata": {},
   "source": [
    "## Getting Started:\n",
    "\n",
    "Below are many examples of different data structures. Identify which is a list, dictionary, and tuple.\n",
    "\n",
    "```python\n",
    "days_in_months = {'January': 31,\n",
    "         'February': 28,\n",
    "         'March': 31}\n",
    "\n",
    "months = ('January', 'February', 'March', 'April')\n",
    "\n",
    "holidays = {'January': [\"New Year's Day\",\"President's Day\", \"MLK DAY\"],\n",
    "             'February':[\"Washington's Birthaday\"],\n",
    "             'March' : []}\n",
    "\n",
    "end_of_month = ['01/31/2019', '02/28/2019', '03/31/2019']\n",
    "```\n"
   ]
  },
  {
   "cell_type": "markdown",
   "metadata": {},
   "source": [
    "# Python Collections"
   ]
  },
  {
   "cell_type": "markdown",
   "metadata": {},
   "source": [
    "### Aims\n",
    "- Understand the different data structures\n",
    "- Differentiate when they should utilize each structure depending on the data and the goals\n",
    "- Create a dictionary from unstructured data."
   ]
  },
  {
   "cell_type": "markdown",
   "metadata": {},
   "source": [
    "### Agenda\n",
    "- Review Types of Collections\n",
    "- Work with each type of collection\n"
   ]
  },
  {
   "cell_type": "markdown",
   "metadata": {},
   "source": [
    "## Types of Collections \n",
    "- **List** is a collection which is ordered and mutable. Allows duplicate members.\n",
    "\n",
    "\n",
    "- **Tuple** is a collection which is ordered and immutable. Allows duplicate members.\n",
    "\n",
    "\n",
    "- **Set** is a collection which is unordered and unindexed. No duplicate members.\n",
    "\n",
    "\n",
    "- **Dictionary** is a collection which is unordered, mutable and indexed. No duplicate members."
   ]
  },
  {
   "cell_type": "markdown",
   "metadata": {},
   "source": [
    "## Methods\n",
    "\n",
    "A method is a function that belongs to an object. And in Python, most things are objects! Naturally, the methods that belong to a particular object can vary depending on the object's datatype.\n",
    "\n"
   ]
  },
  {
   "cell_type": "markdown",
   "metadata": {},
   "source": [
    "### String Methods\n",
    "\n",
    "Here are some useful methods for strings:\n",
    "\n",
    "- ```.upper()```: converts a string to uppercase\n",
    "- ```.lower()```: converts a string to lowercase\n",
    "- ```.capitalize()```: makes the first letter of a string a capital"
   ]
  },
  {
   "cell_type": "code",
   "execution_count": 2,
   "metadata": {},
   "outputs": [],
   "source": [
    "x = 'a variable'"
   ]
  },
  {
   "cell_type": "code",
   "execution_count": 3,
   "metadata": {},
   "outputs": [
    {
     "data": {
      "text/plain": [
       "'A VARIABLE'"
      ]
     },
     "execution_count": 3,
     "metadata": {},
     "output_type": "execute_result"
    }
   ],
   "source": [
    "x.upper()"
   ]
  },
  {
   "cell_type": "code",
   "execution_count": 4,
   "metadata": {},
   "outputs": [
    {
     "data": {
      "text/plain": [
       "'A variable'"
      ]
     },
     "execution_count": 4,
     "metadata": {},
     "output_type": "execute_result"
    }
   ],
   "source": [
    "x.capitalize()"
   ]
  },
  {
   "cell_type": "markdown",
   "metadata": {},
   "source": [
    "### Creating a list\n",
    "\n",
    "You create a list by using brackets.\n"
   ]
  },
  {
   "cell_type": "code",
   "execution_count": 5,
   "metadata": {},
   "outputs": [],
   "source": [
    "students_list = ['Jaime', 'Andrew', 'Dilyan', 'Samira', 'Audrey']\n",
    "\n",
    "answers = ['List', True, 'A', 3 ]\n",
    "\n",
    "list_of_lists = [['a','b', 'c'], [1,2,3], [students_list, answers, x]]"
   ]
  },
  {
   "cell_type": "markdown",
   "metadata": {},
   "source": [
    "### Working with a list\n",
    "\n",
    "Lists are **indexed**. This means that you can access the list's items by referencing their index numbers."
   ]
  },
  {
   "cell_type": "code",
   "execution_count": 6,
   "metadata": {},
   "outputs": [
    {
     "name": "stdout",
     "output_type": "stream",
     "text": [
      "Jaime\n"
     ]
    }
   ],
   "source": [
    "print(students_list[0])"
   ]
  },
  {
   "cell_type": "code",
   "execution_count": 7,
   "metadata": {},
   "outputs": [
    {
     "name": "stdout",
     "output_type": "stream",
     "text": [
      "3\n"
     ]
    }
   ],
   "source": [
    "# Negative indices start counting from the end.\n",
    "print(answers[-1])"
   ]
  },
  {
   "cell_type": "code",
   "execution_count": null,
   "metadata": {},
   "outputs": [],
   "source": [
    "# You can take slices of the list by using a colon\n",
    "print(students_list[2:4])\n",
    "print(students_list[:3])\n"
   ]
  },
  {
   "cell_type": "markdown",
   "metadata": {},
   "source": [
    "***Write a line of code to return the third item in the `answers` list.***"
   ]
  },
  {
   "cell_type": "code",
   "execution_count": 9,
   "metadata": {},
   "outputs": [
    {
     "name": "stdout",
     "output_type": "stream",
     "text": [
      "A\n"
     ]
    }
   ],
   "source": [
    "#answer here\n",
    "print(answers[2])"
   ]
  },
  {
   "cell_type": "markdown",
   "metadata": {},
   "source": [
    "### List Methods\n",
    "\n",
    "Here are some useful methods for lists:\n",
    "\n",
    "- ```.append()```: adds an element to the end of a list\n",
    "- ```.pop()```: removes an element from the list\n",
    "- ```.extend()```: adds multiple elements to the end of a list"
   ]
  },
  {
   "cell_type": "markdown",
   "metadata": {},
   "source": [
    "### Altering a list"
   ]
  },
  {
   "cell_type": "code",
   "execution_count": null,
   "metadata": {},
   "outputs": [],
   "source": [
    "# you can change the list multiple ways\n",
    "\n",
    "# you can change a specific item of the list\n",
    "answers[1] = False\n",
    "print(answers)\n",
    "\n",
    "# you can add on to the list\n",
    "answers.append(True)\n",
    "print(answers)\n",
    "\n",
    "# you can delete a part using the index\n",
    "del answers[-1]\n",
    "print(answers)\n",
    "\n",
    "# you can pop off the last part of a list\n",
    "\n",
    "answers.pop()\n",
    "print(answers)"
   ]
  },
  {
   "cell_type": "markdown",
   "metadata": {},
   "source": [
    "***Write a line of code to remove Audrey from `students_list`, and another to add your own name to the end of the list.***"
   ]
  },
  {
   "cell_type": "code",
   "execution_count": 10,
   "metadata": {},
   "outputs": [
    {
     "data": {
      "text/plain": [
       "['Jaime', 'Andrew', 'Dilyan', 'Samira', 'Audrey']"
      ]
     },
     "execution_count": 10,
     "metadata": {},
     "output_type": "execute_result"
    }
   ],
   "source": [
    "students_list"
   ]
  },
  {
   "cell_type": "code",
   "execution_count": 13,
   "metadata": {},
   "outputs": [
    {
     "data": {
      "text/plain": [
       "['Jaime', 'Andrew', 'Dilyan', 'Samira', 'Xristos']"
      ]
     },
     "execution_count": 13,
     "metadata": {},
     "output_type": "execute_result"
    }
   ],
   "source": [
    "#answer here\n",
    "students_list.pop()\n",
    "students_list.append('Xristos')\n",
    "students_list"
   ]
  },
  {
   "cell_type": "markdown",
   "metadata": {},
   "source": [
    "***Write a line of code that returns the number of items in  lists_of_lists?***\n",
    "\n",
    "*len() is a function that will return the length of something*"
   ]
  },
  {
   "cell_type": "code",
   "execution_count": 15,
   "metadata": {},
   "outputs": [
    {
     "name": "stdout",
     "output_type": "stream",
     "text": [
      "3\n"
     ]
    }
   ],
   "source": [
    "# answer here\n",
    "print(len(list_of_lists))\n",
    "\n"
   ]
  },
  {
   "cell_type": "markdown",
   "metadata": {},
   "source": [
    "***Write a line of code to return the length of the third item in lists_of_lists.***"
   ]
  },
  {
   "cell_type": "code",
   "execution_count": 16,
   "metadata": {},
   "outputs": [
    {
     "name": "stdout",
     "output_type": "stream",
     "text": [
      "[['Jaime', 'Andrew', 'Dilyan', 'Samira', 'Xristos'], ['List', True, 'A', 3], 'a variable']\n"
     ]
    }
   ],
   "source": [
    "# answer here\n",
    "print(list_of_lists[2])"
   ]
  },
  {
   "cell_type": "markdown",
   "metadata": {},
   "source": [
    "### Creating a Tuple\n",
    "You create a tuple by using parentheses.\n"
   ]
  },
  {
   "cell_type": "code",
   "execution_count": 18,
   "metadata": {},
   "outputs": [],
   "source": [
    "mod_tuple = ('Mod 1', 'Mod 2', 'Mod 3', 'Mod 4', 'Mod 5')"
   ]
  },
  {
   "cell_type": "markdown",
   "metadata": {},
   "source": [
    "### Working with Tuples\n",
    "Tuples are also indexed so you can access parts of a tupe just like you would a list"
   ]
  },
  {
   "cell_type": "markdown",
   "metadata": {},
   "source": [
    "***Call the second item of  mod_tuple?***\n"
   ]
  },
  {
   "cell_type": "code",
   "execution_count": 19,
   "metadata": {},
   "outputs": [
    {
     "data": {
      "text/plain": [
       "'Mod 2'"
      ]
     },
     "execution_count": 19,
     "metadata": {},
     "output_type": "execute_result"
    }
   ],
   "source": [
    "# answer here\n",
    "mod_tuple[1]"
   ]
  },
  {
   "cell_type": "markdown",
   "metadata": {},
   "source": [
    "### Creating a Dictionary\n",
    "You create a dictionary by using curly brackets and then defining the keys and values of the dictionary.\n"
   ]
  },
  {
   "cell_type": "code",
   "execution_count": 20,
   "metadata": {},
   "outputs": [],
   "source": [
    "answers_dict = {1:'B', 2: 'A', 3:'C', 4:'A'}"
   ]
  },
  {
   "cell_type": "markdown",
   "metadata": {},
   "source": [
    "The values can be any data type or collection inculding another dictionary."
   ]
  },
  {
   "cell_type": "code",
   "execution_count": 21,
   "metadata": {},
   "outputs": [],
   "source": [
    "test =  { 'subject': 'Corvettes',\n",
    "       'data_given': '06-04-19',\n",
    "       'concepts': ['size', 'horsepower', 'MPG'],\n",
    "        'questions': {'A': {'question': 'How many people can fit in a Corvette?',\n",
    "                          'response_choices': [1,2,3,4],\n",
    "                            'answer': 2},\n",
    "             'B': {'question': 'What is the MPG of a Corvette?',\n",
    "                  'response_choices': [15,20, 25, 30],\n",
    "                    'answer': 15},\n",
    "             'C': {'question': 'How much horsepower does a Corvette have?',\n",
    "                  'response_choices': [200,300, 400, 500],\n",
    "                    'answer': 400}}}"
   ]
  },
  {
   "cell_type": "markdown",
   "metadata": {},
   "source": [
    "### Working With Dictionaries"
   ]
  },
  {
   "cell_type": "markdown",
   "metadata": {},
   "source": [
    "You can explore the structure of a dictionary using the builtin `.keys()` and `.values()` methods."
   ]
  },
  {
   "cell_type": "code",
   "execution_count": 22,
   "metadata": {},
   "outputs": [
    {
     "name": "stdout",
     "output_type": "stream",
     "text": [
      "dict_keys(['subject', 'data_given', 'concepts', 'questions'])\n"
     ]
    }
   ],
   "source": [
    "print(test.keys())\n"
   ]
  },
  {
   "cell_type": "code",
   "execution_count": 23,
   "metadata": {},
   "outputs": [
    {
     "name": "stdout",
     "output_type": "stream",
     "text": [
      "dict_values(['Corvettes', '06-04-19', ['size', 'horsepower', 'MPG'], {'A': {'question': 'How many people can fit in a Corvette?', 'response_choices': [1, 2, 3, 4], 'answer': 2}, 'B': {'question': 'What is the MPG of a Corvette?', 'response_choices': [15, 20, 25, 30], 'answer': 15}, 'C': {'question': 'How much horsepower does a Corvette have?', 'response_choices': [200, 300, 400, 500], 'answer': 400}}])\n"
     ]
    }
   ],
   "source": [
    "print(test.values())"
   ]
  },
  {
   "cell_type": "markdown",
   "metadata": {},
   "source": [
    "If we want to retrieve a specific value we do so by calling `dict['key']`"
   ]
  },
  {
   "cell_type": "code",
   "execution_count": 24,
   "metadata": {},
   "outputs": [
    {
     "name": "stdout",
     "output_type": "stream",
     "text": [
      "Corvettes\n"
     ]
    }
   ],
   "source": [
    "print(test['subject'])\n"
   ]
  },
  {
   "cell_type": "markdown",
   "metadata": {},
   "source": [
    "***Retrieve the value for the questions key.***"
   ]
  },
  {
   "cell_type": "code",
   "execution_count": 25,
   "metadata": {},
   "outputs": [
    {
     "data": {
      "text/plain": [
       "dict_values([{'question': 'How many people can fit in a Corvette?', 'response_choices': [1, 2, 3, 4], 'answer': 2}, {'question': 'What is the MPG of a Corvette?', 'response_choices': [15, 20, 25, 30], 'answer': 15}, {'question': 'How much horsepower does a Corvette have?', 'response_choices': [200, 300, 400, 500], 'answer': 400}])"
      ]
     },
     "execution_count": 25,
     "metadata": {},
     "output_type": "execute_result"
    }
   ],
   "source": [
    "#answer here\n",
    "test['questions'].values()"
   ]
  },
  {
   "cell_type": "markdown",
   "metadata": {},
   "source": [
    "If dictionaries are nested within eachother, you can chain this together to traverse deeper into a dictionary.\n",
    "\n"
   ]
  },
  {
   "cell_type": "code",
   "execution_count": 26,
   "metadata": {},
   "outputs": [
    {
     "data": {
      "text/plain": [
       "'size'"
      ]
     },
     "execution_count": 26,
     "metadata": {},
     "output_type": "execute_result"
    }
   ],
   "source": [
    "test['concepts'][0]"
   ]
  },
  {
   "cell_type": "markdown",
   "metadata": {},
   "source": [
    "***Return all the possible answers to question 1 in the questions dictionary?***"
   ]
  },
  {
   "cell_type": "code",
   "execution_count": 27,
   "metadata": {},
   "outputs": [
    {
     "data": {
      "text/plain": [
       "{'subject': 'Corvettes',\n",
       " 'data_given': '06-04-19',\n",
       " 'concepts': ['size', 'horsepower', 'MPG'],\n",
       " 'questions': {'A': {'question': 'How many people can fit in a Corvette?',\n",
       "   'response_choices': [1, 2, 3, 4],\n",
       "   'answer': 2},\n",
       "  'B': {'question': 'What is the MPG of a Corvette?',\n",
       "   'response_choices': [15, 20, 25, 30],\n",
       "   'answer': 15},\n",
       "  'C': {'question': 'How much horsepower does a Corvette have?',\n",
       "   'response_choices': [200, 300, 400, 500],\n",
       "   'answer': 400}}}"
      ]
     },
     "execution_count": 27,
     "metadata": {},
     "output_type": "execute_result"
    }
   ],
   "source": [
    "test"
   ]
  },
  {
   "cell_type": "code",
   "execution_count": null,
   "metadata": {},
   "outputs": [],
   "source": [
    "#answer here\n"
   ]
  },
  {
   "cell_type": "markdown",
   "metadata": {},
   "source": [
    "### More Dictionaries"
   ]
  },
  {
   "cell_type": "code",
   "execution_count": null,
   "metadata": {},
   "outputs": [],
   "source": [
    "my_dict = {\n",
    "  \"brand\": \"Ford\",\n",
    "  \"model\": \"Mustang\",\n",
    "  \"year\": 1964\n",
    "}"
   ]
  },
  {
   "cell_type": "markdown",
   "metadata": {},
   "source": [
    "### dict vs dict.items()"
   ]
  },
  {
   "cell_type": "code",
   "execution_count": null,
   "metadata": {
    "scrolled": false
   },
   "outputs": [],
   "source": [
    "my_dict"
   ]
  },
  {
   "cell_type": "code",
   "execution_count": null,
   "metadata": {
    "scrolled": true
   },
   "outputs": [],
   "source": [
    "my_dict.items()"
   ]
  },
  {
   "cell_type": "code",
   "execution_count": null,
   "metadata": {},
   "outputs": [],
   "source": [
    "print(type(my_dict))"
   ]
  },
  {
   "cell_type": "code",
   "execution_count": null,
   "metadata": {},
   "outputs": [],
   "source": [
    "print(type(my_dict.items()))"
   ]
  },
  {
   "cell_type": "code",
   "execution_count": null,
   "metadata": {},
   "outputs": [],
   "source": [
    "list(my_dict)"
   ]
  },
  {
   "cell_type": "code",
   "execution_count": null,
   "metadata": {},
   "outputs": [],
   "source": [
    "for i in my_dict:\n",
    "    print(i)"
   ]
  },
  {
   "cell_type": "code",
   "execution_count": null,
   "metadata": {},
   "outputs": [],
   "source": [
    "for i in my_dict.items():\n",
    "    print(i)"
   ]
  },
  {
   "cell_type": "code",
   "execution_count": null,
   "metadata": {},
   "outputs": [],
   "source": [
    "for i in my_dict.items():\n",
    "    print(type(i))"
   ]
  },
  {
   "cell_type": "code",
   "execution_count": null,
   "metadata": {},
   "outputs": [],
   "source": [
    "newdict = {}"
   ]
  },
  {
   "cell_type": "code",
   "execution_count": null,
   "metadata": {},
   "outputs": [],
   "source": [
    "newdict2 = {}"
   ]
  },
  {
   "cell_type": "code",
   "execution_count": null,
   "metadata": {},
   "outputs": [],
   "source": [
    "# i - tuple\n",
    "for i in my_dict.items():\n",
    "    newdict[i[0]] = i[1]\n",
    "print(newdict)"
   ]
  },
  {
   "cell_type": "code",
   "execution_count": null,
   "metadata": {},
   "outputs": [],
   "source": [
    "for k, v in my_dict.items():\n",
    "    newdict.update({k: v})\n",
    "print(newdict)"
   ]
  },
  {
   "cell_type": "code",
   "execution_count": null,
   "metadata": {},
   "outputs": [],
   "source": [
    "for k, v in my_dict.items():\n",
    "    newdict2[k] = v\n",
    "print(newdict2)"
   ]
  },
  {
   "cell_type": "code",
   "execution_count": null,
   "metadata": {},
   "outputs": [],
   "source": [
    "for i in range(len(my_dict.items())):\n",
    "    print(i)"
   ]
  },
  {
   "cell_type": "markdown",
   "metadata": {},
   "source": [
    "### dict.keys() & dict.values()"
   ]
  },
  {
   "cell_type": "code",
   "execution_count": null,
   "metadata": {
    "scrolled": true
   },
   "outputs": [],
   "source": [
    "my_dict.keys()"
   ]
  },
  {
   "cell_type": "code",
   "execution_count": null,
   "metadata": {},
   "outputs": [],
   "source": [
    "my_dict.values()"
   ]
  },
  {
   "cell_type": "code",
   "execution_count": null,
   "metadata": {},
   "outputs": [],
   "source": [
    "type(my_dict.keys())"
   ]
  },
  {
   "cell_type": "code",
   "execution_count": null,
   "metadata": {},
   "outputs": [],
   "source": [
    "type(my_dict.values())"
   ]
  },
  {
   "cell_type": "code",
   "execution_count": null,
   "metadata": {},
   "outputs": [],
   "source": [
    "for i in my_dict.keys():\n",
    "    print(i)"
   ]
  },
  {
   "cell_type": "code",
   "execution_count": null,
   "metadata": {},
   "outputs": [],
   "source": [
    "for i in my_dict.values():\n",
    "    print(i)"
   ]
  },
  {
   "cell_type": "code",
   "execution_count": null,
   "metadata": {},
   "outputs": [],
   "source": [
    "list(my_dict.keys())[0]"
   ]
  },
  {
   "cell_type": "code",
   "execution_count": null,
   "metadata": {},
   "outputs": [],
   "source": []
  },
  {
   "cell_type": "markdown",
   "metadata": {},
   "source": [
    "## Selecting the best data structure"
   ]
  },
  {
   "cell_type": "markdown",
   "metadata": {},
   "source": [
    "**Imagine you are creating a multiple choice test for a class and you want to store information about the test. Identify which would be the appropriate collection type for each of the following collections.**\n",
    "\n",
    "1. A collection fo the possible answers, which will always be A, B, C, D, E.\n",
    "\n",
    "\n",
    "2. A collection of the questions and the possible choices/answers:\n",
    " \n",
    " *Which of the following is the largestof the Great Lakes?*\n",
    "  * Lake Superior\n",
    "  * Lake Huron\n",
    "  * Lake Michigan\n",
    "  * Lake Ontario\n",
    "  * Lake Erie\n",
    "\n",
    "\n",
    "3. A collection of all the students who will take the test. "
   ]
  },
  {
   "cell_type": "markdown",
   "metadata": {},
   "source": [
    "### Creating your own dictionary"
   ]
  },
  {
   "cell_type": "markdown",
   "metadata": {},
   "source": [
    "Imagine we have conducted a survey of all students and we asked them the following 4 questions:\n",
    "    \n",
    "    - What is your name?\n",
    "    - What is your DOB?\n",
    "    - What are some of the nicknames you've had in the past?\n",
    "    - What are some of your interest?\n",
    "\n",
    "Which data collection would be best to use to save these responses?\n",
    "\n",
    "Below create an instance of this data structure with your personal responses to the question.\n"
   ]
  },
  {
   "cell_type": "code",
   "execution_count": null,
   "metadata": {},
   "outputs": [],
   "source": [
    "#Answer Here"
   ]
  },
  {
   "cell_type": "code",
   "execution_count": null,
   "metadata": {},
   "outputs": [],
   "source": []
  }
 ],
 "metadata": {
  "kernelspec": {
   "display_name": "learn-env",
   "language": "python",
   "name": "learn-env"
  },
  "language_info": {
   "codemirror_mode": {
    "name": "ipython",
    "version": 3
   },
   "file_extension": ".py",
   "mimetype": "text/x-python",
   "name": "python",
   "nbconvert_exporter": "python",
   "pygments_lexer": "ipython3",
   "version": "3.7.3"
  }
 },
 "nbformat": 4,
 "nbformat_minor": 2
}
