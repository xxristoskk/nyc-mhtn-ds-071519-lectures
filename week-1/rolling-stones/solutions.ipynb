{
 "cells": [
  {
   "cell_type": "markdown",
   "metadata": {},
   "source": [
    "# Instructions:\n",
    "## Getting Started\n",
    "In this exercise, we will be using data from `rolling stone's top 500 albums`. We have this data contained in the `data.csv` file. We will be building out the following functions to answer questions and interact with this data.\n",
    "\n",
    "> **remember:** reading from a csv file in python looks like the following:\n",
    "\n",
    "```python \n",
    "import csv\n",
    "\n",
    "    with open(file_name) as f:\n",
    "        # we are using DictReader because we want our information to be in dictionary format.\n",
    "        reader = csv.DictReader(f)\n",
    "        # some more code\n",
    "```\n",
    "\n",
    "Once we have our `reader` reading our file as dictionaries, we want our data to be a list of dictionaries. So, we need to loop through our `reader` and create a list. *hint: list comprehension / for loops are your friend\"\n",
    "\n",
    "```python\n",
    "# our data will look something like this once we have read it and turned it into a list of `OrderedDict`s\n",
    "# don't worry, the ordered dicts look different but we can interact with them the same way we do normal dicts\n",
    "[OrderedDict([('number', '1'), ('year', '1967'), ('album', \"Sgt. Pepper's Lonely Hearts Club Band\"), ('artist', 'The Beatles'), ('genre', 'Rock'), ('subgenre', 'Rock & Roll, Psychedelic Rock')]), OrderedDict([('number', '2'), ('year', '1966'), ('album', 'Pet Sounds'), ('artist', 'The Beach Boys'), ('genre', 'Rock'), ('subgenre', 'Pop Rock, Psychedelic Rock')]), OrderedDict([('number', '3'), ('year', '1966'), ('album', 'Revolver'), ('artist', 'The Beatles'), ('genre', 'Rock'), ('subgenre', 'Psychedelic Rock, Pop Rock')])]\n",
    "```\n",
    "\n",
    "After we have our data formated the way we want it, we can now begin working on defining our functions."
   ]
  },
  {
   "cell_type": "markdown",
   "metadata": {},
   "source": [
    "## Importing our data"
   ]
  },
  {
   "cell_type": "code",
   "execution_count": 1,
   "metadata": {},
   "outputs": [],
   "source": [
    "import csv\n",
    "\n",
    "our_data = []\n",
    "with open('./data.csv') as f:\n",
    "    reader = csv.DictReader(f)\n",
    "    for item in reader:\n",
    "        our_data.append(item)\n",
    "        "
   ]
  },
  {
   "cell_type": "code",
   "execution_count": 2,
   "metadata": {
    "scrolled": true
   },
   "outputs": [
    {
     "data": {
      "text/plain": [
       "OrderedDict([('number', '1'),\n",
       "             ('year', '1967'),\n",
       "             ('album', \"Sgt. Pepper's Lonely Hearts Club Band\"),\n",
       "             ('artist', 'The Beatles'),\n",
       "             ('genre', 'Rock'),\n",
       "             ('subgenre', 'Rock & Roll, Psychedelic Rock')])"
      ]
     },
     "execution_count": 2,
     "metadata": {},
     "output_type": "execute_result"
    }
   ],
   "source": [
    "our_data[0]"
   ]
  },
  {
   "cell_type": "markdown",
   "metadata": {},
   "source": [
    "## Functions to build-out\n",
    "### Searching Functions"
   ]
  },
  {
   "cell_type": "markdown",
   "metadata": {},
   "source": [
    "* Find by name - Takes in a string that represents the name of an album. Should return a dictionary with the correct album, or return None."
   ]
  },
  {
   "cell_type": "code",
   "execution_count": 3,
   "metadata": {},
   "outputs": [],
   "source": [
    "def find_by_name(our_data,name):\n",
    "    for album in our_data:\n",
    "        if album['album'] == name:\n",
    "            return album\n",
    "    return None"
   ]
  },
  {
   "cell_type": "markdown",
   "metadata": {},
   "source": [
    "* Find by rank - Takes in a number that represents the rank in the list of top albums and returns the album with that rank. If there is no album with that rank, it returns None."
   ]
  },
  {
   "cell_type": "code",
   "execution_count": 4,
   "metadata": {},
   "outputs": [],
   "source": [
    "def find_by_rank(our_data,rank):\n",
    "    for album in our_data:\n",
    "        if album['number'] == str(rank):\n",
    "            return album\n",
    "    return None\n",
    "    "
   ]
  },
  {
   "cell_type": "markdown",
   "metadata": {},
   "source": [
    "* Find by year - Takes in a number for the year in which an album was released and returns a list of albums that were released in that year. If there are no albums released in the given year, it returns an empty list."
   ]
  },
  {
   "cell_type": "code",
   "execution_count": 5,
   "metadata": {},
   "outputs": [],
   "source": [
    "def find_by_year(our_data,year):\n",
    "    return [album for album in our_data if album['number'] == str(year)]"
   ]
  },
  {
   "cell_type": "markdown",
   "metadata": {},
   "source": [
    "* Find by years - Takes in a start year and end year. Returns a list of all albums that were released on or between the start and end years. If no albums are found for those years, then an empty list is returned."
   ]
  },
  {
   "cell_type": "code",
   "execution_count": 6,
   "metadata": {},
   "outputs": [],
   "source": [
    "def multiple_years(our_data, start, end):\n",
    "    count = start\n",
    "    album_list = []\n",
    "    while count <= end:\n",
    "        album_list.append(find_by_year(our_data,count))\n",
    "        count += 1"
   ]
  },
  {
   "cell_type": "markdown",
   "metadata": {},
   "source": [
    "* Find by ranks - Takes in a start rank and end rank. Returns a list of albums that are ranked between the start and end ranks. If no albums are found for those ranks, then an empty list is returned."
   ]
  },
  {
   "cell_type": "code",
   "execution_count": 7,
   "metadata": {},
   "outputs": [],
   "source": [
    "def multiple_ranks(our_data,start, end):\n",
    "    count = start\n",
    "    album_list = []\n",
    "    while count <= end:\n",
    "        album_list.append(find_by_rank(count))\n",
    "        count += 1"
   ]
  },
  {
   "cell_type": "markdown",
   "metadata": {},
   "source": [
    "## All Functions"
   ]
  },
  {
   "cell_type": "markdown",
   "metadata": {},
   "source": [
    "* All titles - Returns a list of titles for each album."
   ]
  },
  {
   "cell_type": "code",
   "execution_count": 8,
   "metadata": {},
   "outputs": [],
   "source": [
    "def all_titles(our_data):\n",
    "    return [album['album'] for album in our_data]"
   ]
  },
  {
   "cell_type": "markdown",
   "metadata": {},
   "source": [
    "* All artists - Returns a list of artist names for each album."
   ]
  },
  {
   "cell_type": "code",
   "execution_count": 9,
   "metadata": {},
   "outputs": [],
   "source": [
    "def all_artists(our_data):\n",
    "    return [album['artist'] for album in our_data]"
   ]
  },
  {
   "cell_type": "markdown",
   "metadata": {},
   "source": [
    "## Questions to answer/functions"
   ]
  },
  {
   "cell_type": "markdown",
   "metadata": {},
   "source": [
    "* Artists with the most albums - Returns the artist with the highest amount of albums on the list of top albums"
   ]
  },
  {
   "cell_type": "code",
   "execution_count": 10,
   "metadata": {},
   "outputs": [],
   "source": [
    "def most_popular_artist(our_data):\n",
    "    counter_dict = {}\n",
    "    for artist in all_artists(our_data):\n",
    "        if artist in counter_dict:\n",
    "            counter_dict[artist] += 1\n",
    "        else:\n",
    "            counter_dict[artist] = 1\n",
    "    maximum_albums = max(counter_dict.values())\n",
    "    artist_lists = []\n",
    "    for keys, values in counter_dict.items():\n",
    "        if values == maximum_albums:\n",
    "            artist_lists.append(keys) \n",
    "    return artist_lists\n",
    "        "
   ]
  },
  {
   "cell_type": "code",
   "execution_count": 11,
   "metadata": {},
   "outputs": [
    {
     "data": {
      "text/plain": [
       "['The Beatles', 'Bob Dylan', 'The Rolling Stones']"
      ]
     },
     "execution_count": 11,
     "metadata": {},
     "output_type": "execute_result"
    }
   ],
   "source": [
    "most_popular_artist(our_data)"
   ]
  },
  {
   "cell_type": "markdown",
   "metadata": {},
   "source": [
    "* Histogram of albums by decade - Returns a histogram with each decade pointing to the number of albums released during that decade."
   ]
  },
  {
   "cell_type": "code",
   "execution_count": 12,
   "metadata": {},
   "outputs": [],
   "source": [
    "def histogram_decades(our_data):\n",
    "    decade_dict = {}\n",
    "    for album in our_data:\n",
    "        decade = int(album['year'])//10\n",
    "        if decade in decade_dict:\n",
    "            decade_dict[decade] += 1\n",
    "        else:\n",
    "            decade_dict[decade] = 1\n",
    "    return decade_dict"
   ]
  },
  {
   "cell_type": "code",
   "execution_count": 13,
   "metadata": {},
   "outputs": [
    {
     "data": {
      "text/html": [
       "<script>requirejs.config({paths: { 'plotly': ['https://cdn.plot.ly/plotly-latest.min']},});if(!window.Plotly) {{require(['plotly'],function(plotly) {window.Plotly=plotly;});}}</script>"
      ],
      "text/vnd.plotly.v1+html": [
       "<script>requirejs.config({paths: { 'plotly': ['https://cdn.plot.ly/plotly-latest.min']},});if(!window.Plotly) {{require(['plotly'],function(plotly) {window.Plotly=plotly;});}}</script>"
      ]
     },
     "metadata": {},
     "output_type": "display_data"
    },
    {
     "data": {
      "application/vnd.plotly.v1+json": {
       "data": [
        {
         "type": "bar",
         "uid": "bcf91f4c-d6ca-11e8-be3a-88e9fe61eb3a",
         "x": [
          "1950s",
          "1960s",
          "1970s",
          "1980s",
          "1990s",
          "2000s",
          "2010s"
         ],
         "y": [
          99,
          181,
          9,
          65,
          83,
          39,
          2
         ]
        }
       ],
       "layout": {}
      },
      "text/html": [
       "<div id=\"299a2414-85f8-46f9-a67d-3cbc5ff24905\" style=\"height: 525px; width: 100%;\" class=\"plotly-graph-div\"></div><script type=\"text/javascript\">require([\"plotly\"], function(Plotly) { window.PLOTLYENV=window.PLOTLYENV || {};window.PLOTLYENV.BASE_URL=\"https://plot.ly\";Plotly.newPlot(\"299a2414-85f8-46f9-a67d-3cbc5ff24905\", [{\"x\": [\"1950s\", \"1960s\", \"1970s\", \"1980s\", \"1990s\", \"2000s\", \"2010s\"], \"y\": [99, 181, 9, 65, 83, 39, 2], \"type\": \"bar\", \"uid\": \"be3be186-d6ca-11e8-ac65-88e9fe61eb3a\"}], {}, {\"showLink\": true, \"linkText\": \"Export to plot.ly\"})});</script>"
      ],
      "text/vnd.plotly.v1+html": [
       "<div id=\"299a2414-85f8-46f9-a67d-3cbc5ff24905\" style=\"height: 525px; width: 100%;\" class=\"plotly-graph-div\"></div><script type=\"text/javascript\">require([\"plotly\"], function(Plotly) { window.PLOTLYENV=window.PLOTLYENV || {};window.PLOTLYENV.BASE_URL=\"https://plot.ly\";Plotly.newPlot(\"299a2414-85f8-46f9-a67d-3cbc5ff24905\", [{\"x\": [\"1950s\", \"1960s\", \"1970s\", \"1980s\", \"1990s\", \"2000s\", \"2010s\"], \"y\": [99, 181, 9, 65, 83, 39, 2], \"type\": \"bar\", \"uid\": \"be3be186-d6ca-11e8-ac65-88e9fe61eb3a\"}], {}, {\"showLink\": true, \"linkText\": \"Export to plot.ly\"})});</script>"
      ]
     },
     "metadata": {},
     "output_type": "display_data"
    }
   ],
   "source": [
    "# !pip install plotly\n",
    "from plotly.offline import init_notebook_mode, plot, iplot\n",
    "import plotly.graph_objs as go\n",
    "hist_decades = histogram_decades(our_data)\n",
    "\n",
    "\n",
    "init_notebook_mode(connected=True)\n",
    "iplot([{'type':'bar','x' : ['1950s','1960s','1970s','1980s','1990s','2000s','2010s'],'y': list(hist_decades.values())}])\n"
   ]
  },
  {
   "cell_type": "markdown",
   "metadata": {},
   "source": [
    "* Histogram by genre - Returns a histogram with each genre pointing to the number of albums that are categorized as being in that genre."
   ]
  },
  {
   "cell_type": "code",
   "execution_count": 14,
   "metadata": {},
   "outputs": [],
   "source": [
    "def histogram_genres(our_data):\n",
    "    genre_list = []\n",
    "    for album in our_data:\n",
    "        genre_list.extend(genre.strip() for genre in album['genre'].split(','))\n",
    "    genre_dict = {}\n",
    "    for genre in genre_list:\n",
    "        if genre in genre_dict:\n",
    "            genre_dict[genre] += 1\n",
    "        else:\n",
    "            genre_dict[genre] = 1\n",
    "    return genre_dict"
   ]
  },
  {
   "cell_type": "code",
   "execution_count": 15,
   "metadata": {},
   "outputs": [
    {
     "name": "stdout",
     "output_type": "stream",
     "text": [
      "{'Rock': 339, 'Pop': 51, 'Funk / Soul': 76, 'Blues': 33, 'Jazz': 18, 'Folk': 32, 'World': 32, '& Country': 32, 'Classical': 1, 'Stage & Screen': 8, 'Reggae': 12, 'Hip Hop': 37, 'Electronic': 42, 'Latin': 5}\n"
     ]
    }
   ],
   "source": [
    "genre_hist = histogram_genres(our_data)\n",
    "print(genre_hist)"
   ]
  },
  {
   "cell_type": "code",
   "execution_count": 16,
   "metadata": {
    "scrolled": true
   },
   "outputs": [
    {
     "data": {
      "application/vnd.plotly.v1+json": {
       "data": [
        {
         "name": "Number of albums by genre",
         "type": "bar",
         "uid": "cd224c42-d6ca-11e8-aee0-88e9fe61eb3a",
         "x": [
          "Rock",
          "Pop",
          "Funk / Soul",
          "Blues",
          "Jazz",
          "Folk",
          "World",
          "& Country",
          "Classical",
          "Stage & Screen",
          "Reggae",
          "Hip Hop",
          "Electronic",
          "Latin"
         ],
         "y": [
          339,
          51,
          76,
          33,
          18,
          32,
          32,
          32,
          1,
          8,
          12,
          37,
          42,
          5
         ]
        }
       ],
       "layout": {}
      },
      "text/html": [
       "<div id=\"8d6b1cda-99e0-4fad-b407-da96cb5d5437\" style=\"height: 525px; width: 100%;\" class=\"plotly-graph-div\"></div><script type=\"text/javascript\">require([\"plotly\"], function(Plotly) { window.PLOTLYENV=window.PLOTLYENV || {};window.PLOTLYENV.BASE_URL=\"https://plot.ly\";Plotly.newPlot(\"8d6b1cda-99e0-4fad-b407-da96cb5d5437\", [{\"name\": \"Number of albums by genre\", \"x\": [\"Rock\", \"Pop\", \"Funk / Soul\", \"Blues\", \"Jazz\", \"Folk\", \"World\", \"& Country\", \"Classical\", \"Stage & Screen\", \"Reggae\", \"Hip Hop\", \"Electronic\", \"Latin\"], \"y\": [339, 51, 76, 33, 18, 32, 32, 32, 1, 8, 12, 37, 42, 5], \"type\": \"bar\", \"uid\": \"cd24e736-d6ca-11e8-b0ad-88e9fe61eb3a\"}], {}, {\"showLink\": true, \"linkText\": \"Export to plot.ly\"})});</script>"
      ],
      "text/vnd.plotly.v1+html": [
       "<div id=\"8d6b1cda-99e0-4fad-b407-da96cb5d5437\" style=\"height: 525px; width: 100%;\" class=\"plotly-graph-div\"></div><script type=\"text/javascript\">require([\"plotly\"], function(Plotly) { window.PLOTLYENV=window.PLOTLYENV || {};window.PLOTLYENV.BASE_URL=\"https://plot.ly\";Plotly.newPlot(\"8d6b1cda-99e0-4fad-b407-da96cb5d5437\", [{\"name\": \"Number of albums by genre\", \"x\": [\"Rock\", \"Pop\", \"Funk / Soul\", \"Blues\", \"Jazz\", \"Folk\", \"World\", \"& Country\", \"Classical\", \"Stage & Screen\", \"Reggae\", \"Hip Hop\", \"Electronic\", \"Latin\"], \"y\": [339, 51, 76, 33, 18, 32, 32, 32, 1, 8, 12, 37, 42, 5], \"type\": \"bar\", \"uid\": \"cd24e736-d6ca-11e8-b0ad-88e9fe61eb3a\"}], {}, {\"showLink\": true, \"linkText\": \"Export to plot.ly\"})});</script>"
      ]
     },
     "metadata": {},
     "output_type": "display_data"
    }
   ],
   "source": [
    "iplot([{'type':'bar','x':list(genre_hist.keys()),'y':list(genre_hist.values()),'name':'Number of albums by genre'}])"
   ]
  },
  {
   "cell_type": "markdown",
   "metadata": {},
   "source": [
    "## Next Steps"
   ]
  },
  {
   "cell_type": "markdown",
   "metadata": {},
   "source": [
    "Now that we have our functions querying our Album data, let's compare that data with the top 500 songs. We have another file -- a text file! -- that contains the data we need for the top 500 songs. Reading a text file is pretty similar to reading a csv file, however, it tends to need a bit more massaging to get your data formatted the way you want it.\n",
    "\n",
    "```python\n",
    "    # open the text file in read\n",
    "    text_file = open('top-500-songs.txt', 'r')\n",
    "    # read each line of the text file\n",
    "    # here is where you can print out the lines to your terminal and get an idea \n",
    "    # for how you might think about re-formatting the data\n",
    "    lines = text_file.readlines()\n",
    "\n",
    "    print(lines)\n",
    "    # the output will look something like this:\n",
    "['1\\tLike a Rolling Stone\\tBob Dylan\\t1965\\n', '2\\tSatisfaction\\tThe Rolling Stones\\t1965\\n', '3\\tImagine\\tJohn Lennon\\t1971\\n', \"4\\tWhat's Going On\\tMarvin Gaye\\t1971\\n\", '5\\tRespect\\tAretha Franklin\\t1967\\n', '6\\tGood Vibrations\\tThe Beach Boys\\t1966\\n', '7\\tJohnny B. Goode\\tChuck Berry\\t1958\\n', '8\\tHey Jude\\tThe Beatles\\t1968\\n', ...]\n",
    "```\n",
    "\n",
    "It looks like `\\t` is how the text file is separating each element on a line. So, we need a function that can separate a string into a list. Then we can tell this function on what to split our string (i.e. `\\t`). From there we will have a list of lists that are formatted like the following:\n",
    "```python\n",
    "[\"RANK\", \"NAME\", \"ARTIST\", \"YEAR\"]\n",
    "```\n",
    "We need to use our knowledge of iterating to go through each of these elements and turn them into dictionaries with the keys, \"rank\", \"name\", \"artist\", \"year\", pointing to the appropriate values. So, for song number 1, we want it to look like:\n",
    "```python\n",
    "{'rank': 1, 'name': \"Like a Rolling Stone\", 'artist'\"Bob Dylan\": , 'year': 1965}\n",
    "```\n",
    "\n",
    "Once we have a list of songs that are formatted like the above, we can move on to figuring out which songs are from the top albums and which albums and artists have the most 'top songs'."
   ]
  },
  {
   "cell_type": "code",
   "execution_count": 17,
   "metadata": {},
   "outputs": [],
   "source": [
    "text_file = open('top-500-songs.txt', 'r')\n",
    "lines = text_file.readlines()\n",
    "\n",
    "def file_splitter(splitting_device):\n",
    "    return [line.strip().split(splitting_device) for line in lines]"
   ]
  },
  {
   "cell_type": "code",
   "execution_count": 18,
   "metadata": {},
   "outputs": [],
   "source": [
    "songs = file_splitter('\\t')"
   ]
  },
  {
   "cell_type": "code",
   "execution_count": 20,
   "metadata": {},
   "outputs": [
    {
     "data": {
      "text/plain": [
       "[['1', 'Like a Rolling Stone', 'Bob Dylan', '1965'],\n",
       " ['2', 'Satisfaction', 'The Rolling Stones', '1965'],\n",
       " ['3', 'Imagine', 'John Lennon', '1971'],\n",
       " ['4', \"What's Going On\", 'Marvin Gaye', '1971'],\n",
       " ['5', 'Respect', 'Aretha Franklin', '1967'],\n",
       " ['6', 'Good Vibrations', 'The Beach Boys', '1966'],\n",
       " ['7', 'Johnny B. Goode', 'Chuck Berry', '1958'],\n",
       " ['8', 'Hey Jude', 'The Beatles', '1968'],\n",
       " ['9', 'Smells Like Teen Spirit', 'Nirvana', '1991'],\n",
       " ['10', \"What'd I Say\", 'Ray Charles', '1959']]"
      ]
     },
     "execution_count": 20,
     "metadata": {},
     "output_type": "execute_result"
    }
   ],
   "source": [
    "songs[:10]"
   ]
  },
  {
   "cell_type": "code",
   "execution_count": 21,
   "metadata": {},
   "outputs": [],
   "source": [
    "def song_dict_maker(songs):\n",
    "    output_list = []\n",
    "    for song in songs:\n",
    "        new_dict = {}\n",
    "        new_dict['rank'] = song[0]\n",
    "        new_dict['song'] = song[1]\n",
    "        new_dict['artist'] = song[2]\n",
    "        new_dict['year'] = song[3]\n",
    "        output_list.append(new_dict)\n",
    "    return output_list\n",
    "    "
   ]
  },
  {
   "cell_type": "code",
   "execution_count": 22,
   "metadata": {},
   "outputs": [],
   "source": [
    "song_dict = song_dict_maker(songs)"
   ]
  },
  {
   "cell_type": "code",
   "execution_count": 23,
   "metadata": {
    "scrolled": true
   },
   "outputs": [],
   "source": [
    "import json\n",
    "\n",
    "file = open('track_data.json', 'r')\n",
    "json_data = json.load(file)\n",
    "\n",
    "# print(json_data)\n",
    "# output will look like this:\n",
    "# [{'artist': 'The Beatles', 'album': \"Sgt. Pepper's Lonely Hearts Club Band\", 'tracks': [\"Sgt. Pepper's Lonely Hearts Club Band - Remix\", 'With A Little Help From My Friends - Remix', 'Lucy In The Sky With Diamonds - Remix', 'Getting Better - Remix', 'Fixing A Hole - Remix', \"She's Leaving Home - Remix\", 'Being For The Benefit Of Mr. Kite! - Remix', 'Within You Without You - Remix', \"When I'm Sixty-Four - Remix\", 'Lovely Rita - Remix', 'Good Morning Good Morning - Remix', \"Sgt. Pepper's Lonely Hearts Club Band (Reprise) - Remix\", 'A Day In The Life - Remix', \"Sgt. Pepper's Lonely Hearts Club Band - Take 9 And Speech\", 'With A Little Help From My Friends - Take 1 / False Start And Take 2 / Instrumental', 'Lucy In The Sky With Diamonds - Take 1', 'Getting Better - Take 1 / Instrumental And Speech At The End', 'Fixing A Hole - Speech And Take 3', \"She's Leaving Home - Take 1 / Instrumental\", 'Being For The Benefit Of Mr. Kite! - Take 4', 'Within You Without You - Take 1 / Indian Instruments', \"When I'm Sixty-Four - Take 2\", 'Lovely Rita - Speech And Take 9', 'Good Morning Good Morning - Take 8', \"Sgt. Pepper's Lonely Hearts Club Band (Reprise) - Speech And Take 8\", 'A Day In The Life - Take 1 With Hums', 'Strawberry Fields Forever - Take 7', 'Strawberry Fields Forever - Take 26', 'Strawberry Fields Forever - Stereo Mix 2015', 'Penny Lane - Take 6 / Instrumental', 'Penny Lane - Stereo Mix 2017']}, {'artist': 'The Beach Boys', 'album': 'Pet Sounds', 'tracks': [\"Wouldn't It Be Nice - Digitally Remastered 96\", 'You Still Believe In Me - Digitally Remastered 96', \"That's Not Me - 1996 Digital Remaster\", \"Don't Talk (Put Your Head On My Shoulder) - 1996 Digital Remaster\", \"I'm Waiting For The Day - Digitally Remastered 96\", \"Let's Go Away For Awhile - Digitally Remastered 96\", 'Sloop John B - 1996 - Remaster', 'God Only Knows - 1997 - Remaster', \"I Know There's An Answer - Digitally Remastered 96\", 'Here Today - Digitally Remastered 96', \"I Just Wasn't Made For These Times - Digitally Remastered 96\", 'Pet Sounds - Digitally Remastered 96', 'Caroline, No - 1996 Digital Remaster', 'Hang On To Your Ego', \"Wouldn't It Be Nice - 2000 - Remaster\", 'You Still Believe In Me - 1996 Digital Remaster', \"That's Not Me - 1996 Digital Remaster\", \"Don't Talk (Put Your Head On My Shoulder) - 1996 Digital Remaster\", \"I'm Waiting For The Day - 1996 Digital Remaster\", \"Let's Go Away For Awhile - 1996 Digital Remaster\", 'Sloop John B - 1996 Digital Remaster', 'God Only Knows - 1996 Digital Remaster', \"I Know There's An Answer - 1996 Digital Remaster\", 'Here Today - 1996 Digital Remaster', \"I Just Wasn't Made For These Times - 1996 Digital Remaster\", 'Pet Sounds - 1996 Digital Remaster', 'Caroline, No - 1996 Digital Remaster']}, {'artist': 'The Beatles', 'album': 'Revolver', 'tracks': ['Taxman - Remastered', 'Eleanor Rigby - Remastered', \"I'm Only Sleeping - Remastered\", 'Love You To - Remastered', 'Here, There And Everywhere - Remastered', 'Yellow Submarine - Remastered', 'She Said She Said - Remastered', 'Good Day Sunshine - Remastered', 'And Your Bird Can Sing - Remastered', 'For No One - Remastered', 'Doctor Robert - Remastered', 'I Want To Tell You - Remastered', 'Got To Get You Into My Life - Remastered', 'Tomorrow Never Knows - Remastered']}, {'artist': 'Bob Dylan', 'album': 'Highway 61 Revisited', 'tracks': ['Like a Rolling Stone', 'Tombstone Blues', 'It Takes a Lot to Laugh, It Takes a Train to Cry', 'From a Buick 6', 'Ballad of a Thin Man', 'Queen Jane Approximately', 'Highway 61 Revisited', \"Just Like Tom Thumb's Blues\", 'Desolation Row']}, ...]"
   ]
  },
  {
   "cell_type": "code",
   "execution_count": 24,
   "metadata": {},
   "outputs": [],
   "source": [
    "def track_cleaner(data):\n",
    "    copy_data = data.copy()\n",
    "    for idx, album in enumerate(data):\n",
    "        copy_data[idx]['tracks'] = list({track.split('-')[0].strip() for track in album['tracks']})\n",
    "    return copy_data\n",
    "tracks = track_cleaner(json_data)"
   ]
  },
  {
   "cell_type": "markdown",
   "metadata": {},
   "source": [
    "**albumWithMostTopSongs** - returns the name of the artist and album that has that most songs featured on the top 500 songs list"
   ]
  },
  {
   "cell_type": "code",
   "execution_count": 28,
   "metadata": {},
   "outputs": [],
   "source": [
    "def album_with_most_top_songs(song_dict,album_song_file):\n",
    "    album_popularity_dict = {}\n",
    "    for song in song_dict:\n",
    "        for album in album_song_file:\n",
    "            if song['song'] in album['tracks']:\n",
    "                if album['album'] in album_popularity_dict:\n",
    "                    album_popularity_dict[album['album']] += 1\n",
    "                else:\n",
    "                    album_popularity_dict[album['album']] = 1\n",
    "#     print(album_popularity_dict)\n",
    "    print(album_popularity_dict)\n",
    "    most_pop_album_num = max(album_popularity_dict.values())\n",
    "    \n",
    "#     for keys, values in album_popularity_dict.items():\n",
    "#         if values == most_pop_album_num:\n",
    "            \n",
    "    return [keys for keys, values in album_popularity_dict.items() if values == most_pop_album_num]\n",
    "            "
   ]
  },
  {
   "cell_type": "code",
   "execution_count": 29,
   "metadata": {},
   "outputs": [
    {
     "name": "stdout",
     "output_type": "stream",
     "text": [
      "{'Highway 61 Revisited': 3, \"What's Going On\": 1, 'Otis Blue: Otis Redding Sings Soul': 3, 'I Never Loved a Man the Way I Love You': 3, 'Ready to Die': 1, 'The Smile Sessions': 1, 'The Great Twenty Eight': 5, 'Meet The Beatles!': 2, 'The Sun Sessions': 2, 'Presenting the Fabulous Ronettes Featuring Veronica': 2, 'Live at Leeds': 3, 'My Generation': 2, 'Portrait of a Legend 1951-1964': 4, 'London Calling': 2, 'Are You Experienced': 4, 'Elvis Presley': 8, 'Let It Be': 2, 'Born to Run': 2, 'Rubber Soul': 2, 'Lady Soul': 2, 'The Anthology: 1961-1977': 1, 'Pet Sounds': 2, 'Layla and Other Assorted Love Songs': 3, 'Slowhand': 1, 'The Sun Records Collection': 6, 'Led Zeppelin': 2, '[Led Zeppelin IV]': 2, 'The Doors': 2, 'Achtung Baby': 2, 'Let It Bleed': 2, 'Music From Big Pink': 1, \"Here's Little Richard\": 2, 'Electric Ladyland': 2, 'John Wesley Harding': 1, 'Hotel California': 1, 'Purple Rain': 2, 'Thriller': 2, 'The Who Sell Out': 2, 'Talking Book': 1, 'Led Zeppelin II': 3, \"Sgt. Pepper's Lonely Hearts Club Band\": 2, 'The Paul Butterfield Blues Band': 1, 'Star Time': 1, 'All Time Greatest Hits': 1, 'Bringing It All Back Home': 4, 'Mr. Tambourine Man': 3, 'Van Halen': 1, 'Synchronicity': 1, 'If You Can Believe Your Eyes and Ears': 2, 'From Elvis in Memphis': 1, 'Ramones': 1, 'The Joshua Tree': 2, 'At Folsom Prison': 3, \"I'm Still in Love With You\": 1, 'Willy and the Poor Boys': 1, 'Suicide': 2, 'Bridge Over Troubled Water': 2, 'The \"Chirping\" Crickets': 2, '40 Greatest Hits': 2, 'Every Picture Tells a Story': 2, 'Fly Like an Eagle': 1, 'Rumours': 1, 'Squeezing Out Sparks': 1, 'Greatest Hits': 6, 'Odessey and Oracle': 1, 'Hunky Dory': 1, 'Moby Grape': 1, \"Who's Next\": 2, 'The Beatles (\"The White Album\")': 1, 'Revolver': 1, \"There's a Riot Goin' On\": 1, 'Please Please Me': 2, 'Physical Graffiti': 1, \"The B 52's\": 1, 'Pearl': 2, \"A Hard Day's Night\": 2, 'Loaded': 2, 'The Complete Recordings': 1, 'Down Every Road': 1, \"I Do Not Want What I Haven't Got\": 1, 'A Night at the Opera': 1, 'Tracy Chapman': 1, \"Let's Get It On\": 1, 'Berlin': 3, 'How Will the Wolf Survive?': 1, 'The Anthology': 2, 'Los Angeles': 1, 'Live in Cook County Jail': 1, 'Saturday Night Fever: The Original Movie Soundtrack Deluxe Edition': 2, \"(pronounced 'leh-'nerd 'skin-'nerd)\": 1, 'Appetite for Destruction': 2, 'Abbey Road': 3, 'Kick Out the Jams': 1, 'The Cars': 1, 'Fresh Cream': 1, 'Wheels of Fire': 3, \"Howlin' Wolf\": 1, 'Out of Our Heads': 1, 'Moondance': 1, 'Sweet Baby James': 1, 'Blonde on Blonde': 2, 'At Last!': 1, 'Paranoid': 2, 'All the Young Dudes': 2, 'Highway to Hell': 1, 'OK Computer': 1, 'Innervisions': 1, 'Going to a Go-Go': 1, 'Sail Away': 1, 'Rust Never Sleeps': 1, 'New York Dolls': 1, 'The Modern Lovers': 1, 'Volunteers': 1, 'Born in the U.S.A.': 1, 'The Rise and Fall of Ziggy Stardust and the Spiders From Mars': 1, 'Stardust': 1, 'Court and Spark': 1, 'Slanted and Enchanted': 1, 'Raising Hell': 2, 'Toys in the Attic': 3, 'The Marshall Mathers LP': 1, 'Beggars Banquet': 1, 'Red Headed Stranger': 1, 'Between the Buttons': 1, 'The Wall': 1, 'Wish You Were Here': 1, 'My Aim Is True': 1, 'The Birth of Soul': 1, \"That's the Way of the World\": 1, 'Sticky Fingers': 2, 'The Velvet Underground': 2, 'The Harder They Come': 2, 'Axis: Bold as Love': 1, 'Violator': 1, 'Marquee Moon': 1, 'The Bends': 1, 'Murmur': 1, 'Goodbye Yellow Brick Road': 1, 'At Fillmore East': 1, 'Paid in Full': 1, 'Tim': 1, \"Outlandos d'Amour\": 1, 'American Recordings': 1, '#1 Record': 1, 'Metallica (\"The Black Album\")': 1, 'Close to You': 1, 'Doolittle': 1, 'Crosby, Stills & Nash': 1, 'Exile on Main St.': 1, 'Forever Changes': 1, 'The Stooges': 1, 'MTV Unplugged in New York': 2, 'Funky Kingston': 1, 'The Velvet Underground & Nico': 1, 'Live at the Harlem Square Club, 1963': 1, 'All Things Must Pass': 1, 'In Utero': 1, 'Rocket to Russia': 1, 'Damn the Torpedoes': 1, 'My Beautiful Dark Twisted Fantasy': 1, 'Raw Power': 1, 'Tapestry': 1, 'Surrealistic Pillow': 1, 'Nightbirds': 1, 'Love It to Death': 1, 'Graceland': 1, 'Some Girls': 1, 'Weezer (Blue Album)': 1}\n"
     ]
    },
    {
     "data": {
      "text/plain": [
       "['Elvis Presley']"
      ]
     },
     "execution_count": 29,
     "metadata": {},
     "output_type": "execute_result"
    }
   ],
   "source": [
    "album_with_most_top_songs(song_dict,tracks)"
   ]
  },
  {
   "cell_type": "markdown",
   "metadata": {},
   "source": [
    "**albumsWithTopSongs** - returns a list with the name of only the albums that have tracks featured on the list of top 500 songs"
   ]
  },
  {
   "cell_type": "code",
   "execution_count": 30,
   "metadata": {},
   "outputs": [],
   "source": [
    "def album_with_top_songs(our_data,song_dict,album_song_file):\n",
    "    albums_with_popular_songs = []\n",
    "    for song in song_dict:\n",
    "        for album in album_song_file:\n",
    "            if song['song'] in album['tracks']:\n",
    "                albums_with_popular_songs.append(album['album'])\n",
    "                \n",
    "    ultimate_album_list = []            \n",
    "    for album in albums_with_popular_songs:\n",
    "        for top_albums in all_titles(our_data):\n",
    "            if album in top_albums:\n",
    "                ultimate_album_list.append(album)\n",
    "                \n",
    "    return list(set(ultimate_album_list))\n",
    "                \n",
    "    "
   ]
  },
  {
   "cell_type": "code",
   "execution_count": 31,
   "metadata": {},
   "outputs": [
    {
     "data": {
      "text/plain": [
       "168"
      ]
     },
     "execution_count": 31,
     "metadata": {},
     "output_type": "execute_result"
    }
   ],
   "source": [
    "len(album_with_top_songs(our_data,song_dict,tracks))"
   ]
  },
  {
   "cell_type": "markdown",
   "metadata": {},
   "source": [
    "**songsThatAreOnTopAlbums** - returns a list with the name of only the songs featured on the list of top albums"
   ]
  },
  {
   "cell_type": "code",
   "execution_count": 32,
   "metadata": {},
   "outputs": [],
   "source": [
    "def songs_on_top_albums(top_albums,album_song_file):\n",
    "    set_titles = set(all_titles(top_albums))\n",
    "    song_list = []\n",
    "    for album in album_song_file:\n",
    "        if album['album'] in set_titles:\n",
    "            song_list.extend(album['tracks'])\n",
    "    return song_list   "
   ]
  },
  {
   "cell_type": "code",
   "execution_count": 33,
   "metadata": {},
   "outputs": [
    {
     "data": {
      "text/plain": [
       "6754"
      ]
     },
     "execution_count": 33,
     "metadata": {},
     "output_type": "execute_result"
    }
   ],
   "source": [
    "len(songs_on_top_albums(our_data,tracks))"
   ]
  },
  {
   "cell_type": "markdown",
   "metadata": {},
   "source": [
    "**top10AlbumsByTopSongs** - returns a histogram with the 10 albums that have the most songs that appear in the top songs list. The album names should point to the number of songs that appear on the top 500 songs list."
   ]
  },
  {
   "cell_type": "code",
   "execution_count": 34,
   "metadata": {},
   "outputs": [],
   "source": [
    "def top_10_albums_by_songs(song_dict,album_song_file):\n",
    "    album_popularity_dict = {}\n",
    "    for song in song_dict:\n",
    "        for album in album_song_file:\n",
    "            if song['song'] in album['tracks']:\n",
    "                if album['album'] in album_popularity_dict:\n",
    "                    album_popularity_dict[album['album']] += 1\n",
    "                else:\n",
    "                    album_popularity_dict[album['album']] = 1\n",
    "#     print(album_popularity_dict)\n",
    "    sorted_by_value = sorted(album_popularity_dict.items(), key=lambda kv: kv[1],reverse=True)\n",
    "    num_top_songs_on_album = {a:b for a,b in sorted_by_value[:10]}\n",
    "    return iplot([{'type':'bar','x':list(num_top_songs_on_album.keys()),'y':list(num_top_songs_on_album.values())}])\n",
    "      \n",
    "    "
   ]
  },
  {
   "cell_type": "code",
   "execution_count": 35,
   "metadata": {},
   "outputs": [
    {
     "data": {
      "application/vnd.plotly.v1+json": {
       "data": [
        {
         "type": "bar",
         "uid": "f66abd5a-d6ca-11e8-9e2d-88e9fe61eb3a",
         "x": [
          "Elvis Presley",
          "The Sun Records Collection",
          "Greatest Hits",
          "The Great Twenty Eight",
          "Portrait of a Legend 1951-1964",
          "Are You Experienced",
          "Bringing It All Back Home",
          "Highway 61 Revisited",
          "Otis Blue: Otis Redding Sings Soul",
          "I Never Loved a Man the Way I Love You"
         ],
         "y": [
          8,
          6,
          6,
          5,
          4,
          4,
          4,
          3,
          3,
          3
         ]
        }
       ],
       "layout": {}
      },
      "text/html": [
       "<div id=\"b3b06d01-8bec-4ab8-a761-a9bc65e673c0\" style=\"height: 525px; width: 100%;\" class=\"plotly-graph-div\"></div><script type=\"text/javascript\">require([\"plotly\"], function(Plotly) { window.PLOTLYENV=window.PLOTLYENV || {};window.PLOTLYENV.BASE_URL=\"https://plot.ly\";Plotly.newPlot(\"b3b06d01-8bec-4ab8-a761-a9bc65e673c0\", [{\"x\": [\"Elvis Presley\", \"The Sun Records Collection\", \"Greatest Hits\", \"The Great Twenty Eight\", \"Portrait of a Legend 1951-1964\", \"Are You Experienced\", \"Bringing It All Back Home\", \"Highway 61 Revisited\", \"Otis Blue: Otis Redding Sings Soul\", \"I Never Loved a Man the Way I Love You\"], \"y\": [8, 6, 6, 5, 4, 4, 4, 3, 3, 3], \"type\": \"bar\", \"uid\": \"f66d2f22-d6ca-11e8-9aa7-88e9fe61eb3a\"}], {}, {\"showLink\": true, \"linkText\": \"Export to plot.ly\"})});</script>"
      ],
      "text/vnd.plotly.v1+html": [
       "<div id=\"b3b06d01-8bec-4ab8-a761-a9bc65e673c0\" style=\"height: 525px; width: 100%;\" class=\"plotly-graph-div\"></div><script type=\"text/javascript\">require([\"plotly\"], function(Plotly) { window.PLOTLYENV=window.PLOTLYENV || {};window.PLOTLYENV.BASE_URL=\"https://plot.ly\";Plotly.newPlot(\"b3b06d01-8bec-4ab8-a761-a9bc65e673c0\", [{\"x\": [\"Elvis Presley\", \"The Sun Records Collection\", \"Greatest Hits\", \"The Great Twenty Eight\", \"Portrait of a Legend 1951-1964\", \"Are You Experienced\", \"Bringing It All Back Home\", \"Highway 61 Revisited\", \"Otis Blue: Otis Redding Sings Soul\", \"I Never Loved a Man the Way I Love You\"], \"y\": [8, 6, 6, 5, 4, 4, 4, 3, 3, 3], \"type\": \"bar\", \"uid\": \"f66d2f22-d6ca-11e8-9aa7-88e9fe61eb3a\"}], {}, {\"showLink\": true, \"linkText\": \"Export to plot.ly\"})});</script>"
      ]
     },
     "metadata": {},
     "output_type": "display_data"
    }
   ],
   "source": [
    "top_10_albums_by_songs(song_dict,tracks)"
   ]
  },
  {
   "cell_type": "markdown",
   "metadata": {},
   "source": [
    "**topOverallArtist** - Artist featured with the most songs and albums on the two lists. This means that if Brittany Spears had 3 of her albums featured on the top albums listed and 10 of her songs featured on the top songs, she would have a total of 13. The artist with the highest aggregate score would be the top overall artist."
   ]
  },
  {
   "cell_type": "code",
   "execution_count": 36,
   "metadata": {},
   "outputs": [],
   "source": [
    "from collections import Counter\n",
    "def top_overall_artist(album_data,song_data):\n",
    "    artist_album_count = Counter(all_artists(album_data))\n",
    "    artist_song_count = Counter(all_artists(song_data))\n",
    "#     print(artist_song_count)\n",
    "#     print(artist_album_count)\n",
    "    for artist in artist_album_count:\n",
    "        if artist in artist_song_count:\n",
    "            artist_song_count[artist] += artist_album_count[artist]\n",
    "        else:\n",
    "            artist_song_count[artist] = artist_album_count[artist]\n",
    "            \n",
    "    maximum_agg = max(artist_song_count.values())\n",
    "#     print(maximum_agg)\n",
    "    lst = []\n",
    "    for key, value in artist_song_count.items():\n",
    "        if value == maximum_agg:\n",
    "            lst.append(key)\n",
    "    return lst"
   ]
  },
  {
   "cell_type": "code",
   "execution_count": 37,
   "metadata": {},
   "outputs": [
    {
     "data": {
      "text/plain": [
       "['The Beatles']"
      ]
     },
     "execution_count": 37,
     "metadata": {},
     "output_type": "execute_result"
    }
   ],
   "source": [
    "top_overall_artist(our_data,song_dict)"
   ]
  }
 ],
 "metadata": {
  "kernelspec": {
   "display_name": "Python 3",
   "language": "python",
   "name": "python3"
  },
  "language_info": {
   "codemirror_mode": {
    "name": "ipython",
    "version": 3
   },
   "file_extension": ".py",
   "mimetype": "text/x-python",
   "name": "python",
   "nbconvert_exporter": "python",
   "pygments_lexer": "ipython3",
   "version": "3.6.5"
  }
 },
 "nbformat": 4,
 "nbformat_minor": 2
}
