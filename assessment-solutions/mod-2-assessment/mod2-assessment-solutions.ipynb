{
 "cells": [
  {
   "cell_type": "markdown",
   "metadata": {},
   "source": [
    "# Module 2 Assessment: Solutions for 071519\n",
    "\n",
    "### by Rob + Yish 😬\n",
    "\n",
    "Welcome to your Mod 2 Assessment. You will be tested for your understanding of concepts and ability to solve problems that have been covered in class and in the curriculum.\n",
    "\n",
    "Use any libraries you want to solve the problems in the assessment.\n",
    "\n",
    "You will have up to two hours to complete this assessment.\n",
    "\n",
    "The sections of the assessment are:\n",
    "\n",
    "- Accessing Data Through APIs\n",
    "- Object Oriented Programming\n",
    "- SQL and Relational Databases\n",
    "- HTML, CSS and Web Scraping\n",
    "- Other Database Structures (MongoDB)\n",
    "\n",
    "In this assessment you will be exploring two datasets: Pokemon and Quotes."
   ]
  },
  {
   "cell_type": "code",
   "execution_count": null,
   "metadata": {},
   "outputs": [],
   "source": [
    "# import the necessary libraries\n",
    "\n",
    "import requests\n",
    "import json\n",
    "import pandas as pd\n",
    "import sqlite3\n",
    "from bs4 import BeautifulSoup\n",
    "# import pymongo"
   ]
  },
  {
   "cell_type": "markdown",
   "metadata": {},
   "source": [
    "## Part 1: Accessing Data Through APIs\n",
    "\n",
    "In this section we'll be using PokeAPI to get data on Pokemon. Let's first define functions to get information from the API. Provided below is a URL that will get you started with the first 151 Pokemon! Run the cell below to see what we get."
   ]
  },
  {
   "cell_type": "code",
   "execution_count": null,
   "metadata": {
    "scrolled": true
   },
   "outputs": [],
   "source": [
    "url = 'https://pokeapi.co/api/v2/pokemon/?limit=151'\n",
    "results = requests.get(url).json()['results']\n",
    "results"
   ]
  },
  {
   "cell_type": "markdown",
   "metadata": {},
   "source": [
    "[Read the documentation here](https://pokeapi.co/) for information on navigating this API and use the API to obtain data to answer the following questions.\n",
    "\n",
    "### Accessing Data\n",
    "\n",
    "1. For any **one** Pokemon, retrive the following information in a dictionary format with the following keys:\n",
    "    - ID\n",
    "    - Name\n",
    "    - Base experience\n",
    "    - Weight\n",
    "    - Height\n",
    "    - Types\n",
    "    - Abilities\n",
    "\n",
    "For `Types` and `Abilities`, you might want to write helper functions to have each attribute just be a list of types and a list of abilities. Your output should look like this:\n",
    "\n",
    "```\n",
    "{'id': 1, \n",
    "'name': 'bulbasaur', \n",
    "'base_experience': 64, \n",
    "'weight': 69, \n",
    "'height': 7, \n",
    "'types': ['poison', 'grass'], \n",
    "'abilities': ['chlorophyll', 'overgrow']}\n",
    "\n",
    "```\n",
    "    \n"
   ]
  },
  {
   "cell_type": "code",
   "execution_count": null,
   "metadata": {},
   "outputs": [],
   "source": [
    "\"\"\" SOLUTION: data for one Pokemon \"\"\"\n",
    "\n",
    "# helper functions for types and abilities\n",
    "\n",
    "def typelist(types):\n",
    "    result = []\n",
    "    \n",
    "    # iterating through the nested dict and appending to the empty list:\n",
    "    \n",
    "    for i in range(len(types)):\n",
    "        result.append(types[i]['type']['name'])\n",
    "    return result\n",
    "\n",
    "def abilitylist(abilities):\n",
    "    result = []\n",
    "    \n",
    "    # iterating through the nested dict and appending to the empty list:\n",
    "    \n",
    "    for i in range(len(abilities)):\n",
    "        result.append(abilities[i]['ability']['name'])\n",
    "    return result"
   ]
  },
  {
   "cell_type": "code",
   "execution_count": null,
   "metadata": {},
   "outputs": [],
   "source": [
    "def get_pokedata(url):\n",
    "    \n",
    "    # getting full results for one pokemon\n",
    "    info = requests.get(url).json() \n",
    "    \n",
    "    # list of keys with values that don't need editing\n",
    "    keys = ['id', 'name', 'base_experience', 'weight', 'height'] \n",
    "    data = {k: info[k] for k in keys} # dictionary comprehension\n",
    "    \n",
    "    # using the two helper functions to add types and abilities\n",
    "    data['types'] = typelist(info['types'])\n",
    "    data['abilities'] = abilitylist(info['abilities'])\n",
    "    \n",
    "    return data"
   ]
  },
  {
   "cell_type": "markdown",
   "metadata": {},
   "source": [
    "### Pagination\n",
    "\n",
    "2. Get the same information for the first **151** Pokemon as a list of dictionaries ordered by Pokemon ID. Print the first and last elements of the list. (Hint: Use pagination) Your output should save the list to a variable and look like this:\n",
    "\n",
    "```\n",
    "[{'id': 1, \n",
    "'name': 'bulbasaur', \n",
    "'base_experience': 64, \n",
    "'weight': 69, \n",
    "'height': 7, \n",
    "'types': ['poison', 'grass'], \n",
    "'abilities': ['chlorophyll', 'overgrow']}, \n",
    "{'id': 2, \n",
    "'name': 'ivysaur', \n",
    "'base_experience': 142, \n",
    "'weight': 130, \n",
    "'height': 10, \n",
    "'types': ['poison', 'grass'], \n",
    "'abilities': ['chlorophyll', 'overgrow']}, ... ]\n",
    "\n",
    "```\n",
    "\n"
   ]
  },
  {
   "cell_type": "code",
   "execution_count": null,
   "metadata": {},
   "outputs": [],
   "source": [
    "\"\"\" SOLUTION: data for 151 Pokemon \"\"\"\n",
    "\n",
    "# list comprehension to get a list of just URLs\n",
    "urls = [r['url'] for r in results]\n",
    "\n",
    "# list comprehension with the previous function to get full data\n",
    "pokedata = [get_pokedata(url) for url in urls]\n"
   ]
  },
  {
   "cell_type": "code",
   "execution_count": null,
   "metadata": {},
   "outputs": [],
   "source": [
    "# printing first and last elements\n",
    "\n",
    "print(pokedata[0], pokedata[-1])"
   ]
  },
  {
   "cell_type": "markdown",
   "metadata": {},
   "source": [
    "## Part 2: Object Oriented Programming\n",
    "\n",
    "We're going to use the data gathered in the previous section on APIs for this section on Object Oriented Programming to instantiate Pokemon objects and write instance methods.\n",
    "\n",
    "### Creating a Class\n",
    "\n",
    "1. Create a class called `Pokemon` with an `__init__` method to instantiate the following attributes:\n",
    "    - ID\n",
    "    - Name\n",
    "    - Base experience\n",
    "    - Weight\n",
    "    - Height\n",
    "    - Types\n",
    "    - Abilities\n",
    "    \n",
    "    \n",
    "### Instantiating Objects\n",
    "\n",
    "2. Using the data you obtained from the API, instantiate the first, fourth and seventh Pokemon. Assign them to the variables `bulbasaur`, `charmander` and `squirtle`.\n"
   ]
  },
  {
   "cell_type": "code",
   "execution_count": null,
   "metadata": {},
   "outputs": [],
   "source": [
    "# if you were unable to get the data from the API in the right format,\n",
    "# uncomment the code below to access a JSON file with the list of dictionaries\n",
    "\n",
    "# with open('data/pokemon.json') as f:  \n",
    "#     pokelist = json.load(f)"
   ]
  },
  {
   "cell_type": "code",
   "execution_count": null,
   "metadata": {},
   "outputs": [],
   "source": [
    "class Pokemon:\n",
    "    \n",
    "    def __init__(self, ID, name, exp, weight, height, types, abilities):\n",
    "        self.ID = ID\n",
    "        self.name = name\n",
    "        self.exp = exp\n",
    "        self.weight = weight\n",
    "        self.height = height\n",
    "        self.types = types\n",
    "        self.abilities = abilities\n",
    "        \n",
    "    def bmi(self):\n",
    "        return (self.weight*0.1)/(self.height*0.1)**2\n",
    "        \n"
   ]
  },
  {
   "cell_type": "code",
   "execution_count": null,
   "metadata": {},
   "outputs": [],
   "source": [
    "\"\"\" SOLUTION: instantiating three Pokemon \"\"\"\n",
    "\n",
    "# function to instantiate a Pokemon\n",
    "def instantiate_pokemon(info):\n",
    "    pokemon = Pokemon(info['id'], \n",
    "                      info['name'], \n",
    "                      info['base_experience'], \n",
    "                      info['weight'], \n",
    "                      info['height'], \n",
    "                      info['types'],\n",
    "                      info['abilities'])\n",
    "    return pokemon\n",
    "\n",
    "\"\"\"\n",
    "can also be done manually:\n",
    "\n",
    "bulbasaur = Pokemon(1, 'bulbasaur', 64, 69, 7, ['poison', 'grass'], ['chlorophyll', 'overgrow'])\n",
    "\n",
    "etc.\n",
    "\n",
    "\"\"\"\n",
    "\n",
    "bulbasaur = instantiate_pokemon(pokedata[0])\n",
    "charmander = instantiate_pokemon(pokedata[3])\n",
    "squirtle = instantiate_pokemon(pokedata[6])"
   ]
  },
  {
   "cell_type": "code",
   "execution_count": null,
   "metadata": {},
   "outputs": [],
   "source": [
    "# run this cell to test and check your code\n",
    "# you may need to edit the attribute variable names if you named them differently!\n",
    "\n",
    "def print_pokeinfo(pokemon_object):\n",
    "    o = pokemon_object\n",
    "    print('ID: ' + str(o.ID) + '\\n' +\n",
    "          'Name: ' + o.name.title() + '\\n' +\n",
    "          'Base experience: ' + str(o.exp) + '\\n' +\n",
    "          'Weight: ' + str(o.weight) + '\\n' +\n",
    "          'Height: ' + str(o.height) + '\\n' +\n",
    "          'Types: ' + str(o.types) + '\\n' +\n",
    "          'Abilities: ' + str(o.abilities) + '\\n'\n",
    "         )\n",
    "    \n",
    "print_pokeinfo(bulbasaur)\n",
    "print_pokeinfo(ivysaur)\n",
    "print_pokeinfo(venusaur)"
   ]
  },
  {
   "cell_type": "markdown",
   "metadata": {},
   "source": [
    "### Instance Methods\n",
    "\n",
    "3. Write an instance method within the class `Pokemon` to find the BMI of a Pokemon. BMI is defined by $\\frac{weight}{height^{2}}$ with weight in **kilograms** and height in **meters**. The height and weight data of Pokemon from the API is in **decimeters** and **hectograms** respectively.\n",
    "\n",
    "\n",
    "    1 decimeter = 0.1 meters\n",
    "    1 hectogram = 0.1 kilograms"
   ]
  },
  {
   "cell_type": "code",
   "execution_count": null,
   "metadata": {},
   "outputs": [],
   "source": [
    "# run this cell to test and check your code\n",
    "# you probably have to rerun the code to instantiate your objects\n",
    "\n",
    "print(bulbasaur.bmi()) # 14.08\n",
    "print(charmander.bmi()) # 23.61\n",
    "print(squirtle.bmi()) # 36"
   ]
  },
  {
   "cell_type": "markdown",
   "metadata": {},
   "source": [
    "## Part 3: SQL and Relational Databases\n",
    "\n",
    "For this section, we've put the Pokemon data into SQL tables. You won't need to use your list of dictionaries or the JSON file for this section. The schema of `pokemon.db` is as follows:\n",
    "\n",
    "<img src=\"data/pokemondb.png\" alt=\"db schema\" style=\"width:500px;\"/>\n",
    "\n",
    "Assign your SQL queries as strings to the variables `q1`, `q2`, etc. and run the cells at the end of this section to print your results as Pandas DataFrames.\n",
    "\n",
    "- q1: query all columns from `Pokemon` the Pokemon that have base_experience above 200\n",
    "- q2: query the id, name, type1 and type2 of Pokemon that have **water** types as either their first or second type\n",
    "- q3: query the average weight of Pokemon by their first type in descending order\n",
    "- q4: query the Pokemon name, Pokemon type2, and what **type2** has \"2xdamage\" to\n",
    "- q5: query the top 5 most common type1s, the minimum height, maximum height, minimum weight and maximum weight of pokemon with those type1s, and what associated type they do \"0.5xdamage\" to\n",
    "\n",
    "\n",
    "**Important note on syntax**: use `double quotes \"\"` when quoting strings **within** your query and wrap the entire query in `single quotes ''` For the column titles that begin with numbers, you need to wrap the column names in double quotes."
   ]
  },
  {
   "cell_type": "code",
   "execution_count": null,
   "metadata": {},
   "outputs": [],
   "source": [
    "cnx = sqlite3.connect('data/pokemon.db')"
   ]
  },
  {
   "cell_type": "code",
   "execution_count": null,
   "metadata": {
    "scrolled": true
   },
   "outputs": [],
   "source": [
    "q1 = 'select * from pokemon where base_experience > 200'\n",
    "pd.read_sql(q1, cnx)"
   ]
  },
  {
   "cell_type": "code",
   "execution_count": null,
   "metadata": {
    "scrolled": true
   },
   "outputs": [],
   "source": [
    "q2 = 'select id, name, type1, type2 from pokemon where type1 == \"water\" or type2 == \"water\"'\n",
    "pd.read_sql(q2, cnx)"
   ]
  },
  {
   "cell_type": "code",
   "execution_count": null,
   "metadata": {
    "scrolled": true
   },
   "outputs": [],
   "source": [
    "q3 = 'select type1, avg(weight) from pokemon group by type1 order by avg(weight) desc'\n",
    "pd.read_sql(q3, cnx)"
   ]
  },
  {
   "cell_type": "code",
   "execution_count": null,
   "metadata": {
    "scrolled": true
   },
   "outputs": [],
   "source": [
    "q4 = 'select pokemon.name, type2, \"2xdamage\" from pokemon join types on pokemon.type2 = types.name'\n",
    "pd.read_sql(q4, cnx)"
   ]
  },
  {
   "cell_type": "code",
   "execution_count": null,
   "metadata": {
    "scrolled": true
   },
   "outputs": [],
   "source": [
    "q5 = 'select type1, count(*), min(height), max(height), min(weight), max(weight), \"0.5xdamage\" from pokemon \\\n",
    "        join types on pokemon.type1 = types.name \\\n",
    "        group by type1 \\\n",
    "        order by count(*) desc limit 5'\n",
    "pd.read_sql(q5, cnx)"
   ]
  },
  {
   "cell_type": "markdown",
   "metadata": {},
   "source": [
    "## Section 4: Web Scraping"
   ]
  },
  {
   "cell_type": "markdown",
   "metadata": {},
   "source": [
    "### Accessing Data Using BeautifulSoup\n",
    "\n",
    "Use BeautifulSoup to get quotes, authors, and tags from [Quotes to Read](http://quotes.toscrape.com/).\n",
    "\n",
    "First go to the site and inspect the page, look at what links there are and how the entire site is structured."
   ]
  },
  {
   "cell_type": "markdown",
   "metadata": {},
   "source": [
    "1. Get the first author and the path for the author's page as a tuple from the [homepage](http://quotes.toscrape.com/)."
   ]
  },
  {
   "cell_type": "code",
   "execution_count": null,
   "metadata": {},
   "outputs": [],
   "source": [
    "# Make a get request to retrieve the page\n",
    "html_page = requests.get('http://quotes.toscrape.com/') \n",
    "# Pass the page contents to beautiful soup for parsing\n",
    "soup = BeautifulSoup(html_page.content, 'html.parser')\n",
    "\n",
    "# Your code here\n"
   ]
  },
  {
   "cell_type": "code",
   "execution_count": null,
   "metadata": {},
   "outputs": [],
   "source": [
    "\"\"\" SOLUTION: data for one author \"\"\"\n",
    "\n",
    "author = soup.find('small')\n",
    "author.find_next_siblings()[0].get('href')\n",
    "(author.text, author.find_next_siblings()[0].get('href'))"
   ]
  },
  {
   "cell_type": "markdown",
   "metadata": {},
   "source": [
    "2. Write a function to get **all** the authors and href links for the authors from the [homepage](http://quotes.toscrape.com/)\n"
   ]
  },
  {
   "cell_type": "code",
   "execution_count": null,
   "metadata": {},
   "outputs": [],
   "source": [
    "def authors(url):\n",
    "    '''\n",
    "    input: url\n",
    "    \n",
    "    return: a dictionary of of authors and their urls\n",
    "            {'author_1':'url_of_author_1', 'author_2':'url_of_author_2' ...}\n",
    "    '''\n",
    "    pass"
   ]
  },
  {
   "cell_type": "code",
   "execution_count": null,
   "metadata": {},
   "outputs": [],
   "source": [
    "\"\"\" SOLUTION: data for all the authors on a page \"\"\"\n",
    "\n",
    "def authors(url):\n",
    "    # Make a get request to retrieve the page\n",
    "    html_page = requests.get(url) \n",
    "    # Pass the page contents to beautiful soup for parsing\n",
    "    soup = BeautifulSoup(html_page.content, 'html.parser')\n",
    "    authors = soup.find_all('small')\n",
    "    author_dictionary = {}\n",
    "    for author in authors:\n",
    "        author_dictionary[author.text] = author.find_next_siblings()[0].get('href')\n",
    "    return author_dictionary"
   ]
  },
  {
   "cell_type": "code",
   "execution_count": null,
   "metadata": {},
   "outputs": [],
   "source": [
    "# run this cell to test the function\n",
    "print(authors('http://quotes.toscrape.com/'))\n",
    "print('\\n')\n",
    "print(authors('http://quotes.toscrape.com/page/3'))"
   ]
  },
  {
   "cell_type": "markdown",
   "metadata": {},
   "source": [
    "### Pagination\n",
    "\n",
    "3. Get the first author on each of the first 5 pages of quotes. You can get to the next page with the next button at the bottom of the homepage.\n"
   ]
  },
  {
   "cell_type": "code",
   "execution_count": null,
   "metadata": {},
   "outputs": [],
   "source": [
    "# Your code here\n"
   ]
  },
  {
   "cell_type": "code",
   "execution_count": null,
   "metadata": {},
   "outputs": [],
   "source": [
    "\"\"\" SOLUTION: get_some_quotes \"\"\"\n",
    "\n",
    "for i in range(1,6):\n",
    "    html_page = requests.get(f'http://quotes.toscrape.com/page/{i}/')\n",
    "    soup = BeautifulSoup(html_page.content, 'html.parser')\n",
    "    author = soup.find('small')\n",
    "    print(author.text)"
   ]
  },
  {
   "cell_type": "markdown",
   "metadata": {},
   "source": [
    "4. Write a function to get all of the quotes from a page."
   ]
  },
  {
   "cell_type": "code",
   "execution_count": null,
   "metadata": {},
   "outputs": [],
   "source": [
    "def get_some_quotes(url):\n",
    "    '''\n",
    "    input: url, number of pages to scrap (just scrape the home page if no argument is passed in)\n",
    "    \n",
    "    return: a list of dictionaries of quotes with their attributes\n",
    "            [{'quote':'quote_1_text', 'author':'url_of_author_1'}, \n",
    "            {'quote':'quote_2_text', 'author':'url_of_author_2', 'quote_tags':[list_of_quote_2_tags]}, ...]\n",
    "    '''\n",
    "    pass"
   ]
  },
  {
   "cell_type": "code",
   "execution_count": null,
   "metadata": {},
   "outputs": [],
   "source": [
    "\"\"\" SOLUTION: get_some_quotes \"\"\"\n",
    "\n",
    "def get_some_quotes(url):\n",
    "    # Make a get request to retrieve the page\n",
    "    html_page = requests.get(url) \n",
    "    # Pass the page contents to beautiful soup for parsing\n",
    "    soup = BeautifulSoup(html_page.content, 'html.parser')\n",
    "        \n",
    "    list_quotes = []\n",
    "    for i in soup.find_all(class_=\"quote\"):\n",
    "        quotes = {}\n",
    "        quote = (i.find(class_=\"text\").text)\n",
    "        quotes['quote'] = quote\n",
    "        list_quotes.append(quotes)\n",
    "        author = i.find(class_ = \"author\").text\n",
    "        quotes['author'] = author\n",
    "    return list_quotes"
   ]
  },
  {
   "cell_type": "code",
   "execution_count": null,
   "metadata": {},
   "outputs": [],
   "source": [
    "# set the function to a variable to use later\n",
    "quotes_for_mongo = get_some_quotes('http://quotes.toscrape.com/' )\n",
    "quotes_for_mongo"
   ]
  },
  {
   "cell_type": "markdown",
   "metadata": {},
   "source": [
    "## Part 5: MongoDB"
   ]
  },
  {
   "cell_type": "markdown",
   "metadata": {},
   "source": [
    "To do this section open a connection to a mongo database in the terminal, using `mongod` You will **create**, **update**, and **read** from a mongo database.\n",
    "\n",
    "Create and connect to a mongo database."
   ]
  },
  {
   "cell_type": "code",
   "execution_count": null,
   "metadata": {},
   "outputs": [],
   "source": [
    "myclient = pymongo.MongoClient(\"mongodb://127.0.0.1:27017/\")\n",
    "mydb = myclient['quote_database']"
   ]
  },
  {
   "cell_type": "code",
   "execution_count": null,
   "metadata": {},
   "outputs": [],
   "source": [
    "mycollection = mydb['quote_collection']"
   ]
  },
  {
   "cell_type": "markdown",
   "metadata": {},
   "source": [
    "1. Add the quotes from `get_some_quotes` for the [homepage](http://quotes.toscrape.com/) or use the JSON file `quotes.json` for this section. To verify this get the resulting _ids back from the `results` variable."
   ]
  },
  {
   "cell_type": "code",
   "execution_count": null,
   "metadata": {},
   "outputs": [],
   "source": [
    "# if not using  the get_some_quotes function read in the JSON file and set it to variable data\n",
    "\n",
    "with open(r\"data/quotes.json\", \"r\") as r:\n",
    "    data = json.load(r)"
   ]
  },
  {
   "cell_type": "code",
   "execution_count": null,
   "metadata": {},
   "outputs": [],
   "source": [
    "# results is variable th\n",
    "results = None"
   ]
  },
  {
   "cell_type": "code",
   "execution_count": null,
   "metadata": {},
   "outputs": [],
   "source": [
    "\"\"\" SOLUTION:  for adding data in the database\"\"\"\n",
    "\n",
    "### add the data from the JSON file\n",
    "results = mycollection.insert_many(data)\n",
    "\n",
    "### add the data from the get_some_quotes function\n",
    "# results = mycollection.insert_many(quotes_for_mongo)\n",
    "\n",
    "# check they are in the database\n",
    "results.inserted_ids"
   ]
  },
  {
   "cell_type": "markdown",
   "metadata": {},
   "source": [
    "2. Query the database for all the quotes by `'Albert Einstein'`."
   ]
  },
  {
   "cell_type": "code",
   "execution_count": null,
   "metadata": {},
   "outputs": [],
   "source": [
    "q1 = None"
   ]
  },
  {
   "cell_type": "code",
   "execution_count": null,
   "metadata": {},
   "outputs": [],
   "source": [
    "\"\"\" SOLUTION: data for Albert Einstein quotes \"\"\"\n",
    "\n",
    "q1 = mycollection.find({'author':'Albert Einstein'})\n",
    "for x in q1:\n",
    "    print(x)"
   ]
  },
  {
   "cell_type": "markdown",
   "metadata": {},
   "source": [
    "3. Update Steve Martin's quote with the tags for the quote stored in the variable `steve_martin_tags`."
   ]
  },
  {
   "cell_type": "code",
   "execution_count": null,
   "metadata": {},
   "outputs": [],
   "source": [
    "steve_martin_tags = {'quote_tags': ['change', 'deep-thoughts', 'thinking', 'world']}\n",
    "update_steve = None\n",
    "first_quote_tags = None\n"
   ]
  },
  {
   "cell_type": "code",
   "execution_count": null,
   "metadata": {},
   "outputs": [],
   "source": [
    "\"\"\" SOLUTION: data for Steve Martin tags \"\"\"\n",
    "\n",
    "update_steve = {'author': 'Steve Martin'}\n",
    "steve_quote_tags = {'$set':steven_martin_tags}\n",
    "\n",
    "mycollection.update_one(update_steve, steve_quote_tags)"
   ]
  },
  {
   "cell_type": "markdown",
   "metadata": {},
   "source": [
    "4. Query the database to confirm that  `'Steve Martin'` is updated with `steve_martin_tags`."
   ]
  },
  {
   "cell_type": "code",
   "execution_count": null,
   "metadata": {},
   "outputs": [],
   "source": [
    "q2 = None"
   ]
  },
  {
   "cell_type": "code",
   "execution_count": null,
   "metadata": {},
   "outputs": [],
   "source": [
    "\"\"\" SOLUTION: data for Steve Martin tags query \"\"\"\n",
    "\n",
    "q2 = mycollection.find({'author': 'Steve Martin'})\n",
    "for item in q2:\n",
    "    print(item)"
   ]
  }
 ],
 "metadata": {
  "kernelspec": {
   "display_name": "Python 3",
   "language": "python",
   "name": "python3"
  },
  "language_info": {
   "codemirror_mode": {
    "name": "ipython",
    "version": 3
   },
   "file_extension": ".py",
   "mimetype": "text/x-python",
   "name": "python",
   "nbconvert_exporter": "python",
   "pygments_lexer": "ipython3",
   "version": "3.7.2"
  },
  "toc": {
   "base_numbering": 1,
   "nav_menu": {},
   "number_sections": false,
   "sideBar": true,
   "skip_h1_title": false,
   "title_cell": "Table of Contents",
   "title_sidebar": "Contents",
   "toc_cell": false,
   "toc_position": {},
   "toc_section_display": true,
   "toc_window_display": false
  }
 },
 "nbformat": 4,
 "nbformat_minor": 2
}
