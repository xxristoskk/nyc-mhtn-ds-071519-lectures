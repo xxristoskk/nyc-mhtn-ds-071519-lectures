{
 "cells": [
  {
   "cell_type": "markdown",
   "metadata": {},
   "source": [
    "## Starting Off\n",
    "\n",
    "Run the cell of code below which imports a json file and then loads it into python. Investigate the resulting `data` variable and learn all you can about the object. \n"
   ]
  },
  {
   "cell_type": "code",
   "execution_count": 2,
   "metadata": {},
   "outputs": [],
   "source": [
    "import json\n",
    "f = open('data.json')\n",
    "data = json.load(f)"
   ]
  },
  {
   "cell_type": "code",
   "execution_count": 4,
   "metadata": {
    "collapsed": true
   },
   "outputs": [
    {
     "data": {
      "text/plain": [
       "{'businesses': [{'id': 'hYWsMDz0ms7TOnFTcsxYcw',\n",
       "   'alias': 'manolis-ice-cream-pastries-and-cakes-austin',\n",
       "   'name': 'Manolis Ice Cream, Pastries, & Cakes',\n",
       "   'image_url': 'https://s3-media2.fl.yelpcdn.com/bphoto/aAmOnvITNNjs04XnKFvSGw/o.jpg',\n",
       "   'is_closed': False,\n",
       "   'url': 'https://www.yelp.com/biz/manolis-ice-cream-pastries-and-cakes-austin?adjust_creative=F3qypMKtTmS20ke5XNx-Sg&utm_campaign=yelp_api_v3&utm_medium=api_v3_business_search&utm_source=F3qypMKtTmS20ke5XNx-Sg',\n",
       "   'review_count': 156,\n",
       "   'categories': [{'alias': 'desserts', 'title': 'Desserts'},\n",
       "    {'alias': 'icecream', 'title': 'Ice Cream & Frozen Yogurt'},\n",
       "    {'alias': 'bakeries', 'title': 'Bakeries'}],\n",
       "   'rating': 5.0,\n",
       "   'coordinates': {'latitude': 30.24441, 'longitude': -97.75808},\n",
       "   'transactions': ['pickup'],\n",
       "   'price': '$',\n",
       "   'location': {'address1': '603 W Live Oak St',\n",
       "    'address2': None,\n",
       "    'address3': '',\n",
       "    'city': 'Austin',\n",
       "    'zip_code': '78704',\n",
       "    'country': 'US',\n",
       "    'state': 'TX',\n",
       "    'display_address': ['603 W Live Oak St', 'Austin, TX 78704']},\n",
       "   'phone': '+15123875045',\n",
       "   'display_phone': '(512) 387-5045',\n",
       "   'distance': 6759.193628660178},\n",
       "  {'id': 'rfqq-rHTTipS5XSuOhxCXg',\n",
       "   'alias': 'dolce-neve-austin',\n",
       "   'name': 'Dolce Neve',\n",
       "   'image_url': 'https://s3-media2.fl.yelpcdn.com/bphoto/1DgEa_pgroGWjQeZasXo-Q/o.jpg',\n",
       "   'is_closed': False,\n",
       "   'url': 'https://www.yelp.com/biz/dolce-neve-austin?adjust_creative=F3qypMKtTmS20ke5XNx-Sg&utm_campaign=yelp_api_v3&utm_medium=api_v3_business_search&utm_source=F3qypMKtTmS20ke5XNx-Sg',\n",
       "   'review_count': 543,\n",
       "   'categories': [{'alias': 'gelato', 'title': 'Gelato'},\n",
       "    {'alias': 'icecream', 'title': 'Ice Cream & Frozen Yogurt'},\n",
       "    {'alias': 'coffee', 'title': 'Coffee & Tea'}],\n",
       "   'rating': 4.5,\n",
       "   'coordinates': {'latitude': 30.247625, 'longitude': -97.755404},\n",
       "   'transactions': [],\n",
       "   'price': '$',\n",
       "   'location': {'address1': '1713 S 1st St',\n",
       "    'address2': '',\n",
       "    'address3': '',\n",
       "    'city': 'Austin',\n",
       "    'zip_code': '78704',\n",
       "    'country': 'US',\n",
       "    'state': 'TX',\n",
       "    'display_address': ['1713 S 1st St', 'Austin, TX 78704']},\n",
       "   'phone': '+15128045568',\n",
       "   'display_phone': '(512) 804-5568',\n",
       "   'distance': 6401.051305407798},\n",
       "  {'id': 'TeVBtbf3Z8TC_wgddPWH7A',\n",
       "   'alias': 'scoop-and-score-cedar-park-4',\n",
       "   'name': 'Scoop & Score',\n",
       "   'image_url': 'https://s3-media1.fl.yelpcdn.com/bphoto/cbKYHyRn7FpveylAPX7VgA/o.jpg',\n",
       "   'is_closed': False,\n",
       "   'url': 'https://www.yelp.com/biz/scoop-and-score-cedar-park-4?adjust_creative=F3qypMKtTmS20ke5XNx-Sg&utm_campaign=yelp_api_v3&utm_medium=api_v3_business_search&utm_source=F3qypMKtTmS20ke5XNx-Sg',\n",
       "   'review_count': 130,\n",
       "   'categories': [{'alias': 'coffee', 'title': 'Coffee & Tea'},\n",
       "    {'alias': 'icecream', 'title': 'Ice Cream & Frozen Yogurt'}],\n",
       "   'rating': 5.0,\n",
       "   'coordinates': {'latitude': 30.5183617420555,\n",
       "    'longitude': -97.7906447595262},\n",
       "   'transactions': ['pickup', 'delivery'],\n",
       "   'price': '$',\n",
       "   'location': {'address1': '111 N Vista Ridge Blvd',\n",
       "    'address2': 'Ste 202',\n",
       "    'address3': '',\n",
       "    'city': 'Cedar Park',\n",
       "    'zip_code': '78613',\n",
       "    'country': 'US',\n",
       "    'state': 'TX',\n",
       "    'display_address': ['111 N Vista Ridge Blvd',\n",
       "     'Ste 202',\n",
       "     'Cedar Park, TX 78613']},\n",
       "   'phone': '+15123875383',\n",
       "   'display_phone': '(512) 387-5383',\n",
       "   'distance': 23916.645362565087},\n",
       "  {'id': 'YVdTl-VERcOig4MP1264Rw',\n",
       "   'alias': 'sweet-ritual-austin',\n",
       "   'name': 'Sweet Ritual',\n",
       "   'image_url': 'https://s3-media3.fl.yelpcdn.com/bphoto/6T0WLO2XvcrGkXSJgjL10Q/o.jpg',\n",
       "   'is_closed': False,\n",
       "   'url': 'https://www.yelp.com/biz/sweet-ritual-austin?adjust_creative=F3qypMKtTmS20ke5XNx-Sg&utm_campaign=yelp_api_v3&utm_medium=api_v3_business_search&utm_source=F3qypMKtTmS20ke5XNx-Sg',\n",
       "   'review_count': 509,\n",
       "   'categories': [{'alias': 'vegan', 'title': 'Vegan'},\n",
       "    {'alias': 'icecream', 'title': 'Ice Cream & Frozen Yogurt'}],\n",
       "   'rating': 4.5,\n",
       "   'coordinates': {'latitude': 30.30608, 'longitude': -97.71523},\n",
       "   'transactions': [],\n",
       "   'price': '$',\n",
       "   'location': {'address1': '4631 Airport Blvd',\n",
       "    'address2': 'Ste 114',\n",
       "    'address3': '',\n",
       "    'city': 'Austin',\n",
       "    'zip_code': '78751',\n",
       "    'country': 'US',\n",
       "    'state': 'TX',\n",
       "    'display_address': ['4631 Airport Blvd', 'Ste 114', 'Austin, TX 78751']},\n",
       "   'phone': '+15126668346',\n",
       "   'display_phone': '(512) 666-8346',\n",
       "   'distance': 4096.235786081973},\n",
       "  {'id': 'Qt92iz7b_3v_0BDGT0TLSA',\n",
       "   'alias': 'churro-co-austin-6',\n",
       "   'name': 'Churro Co',\n",
       "   'image_url': 'https://s3-media1.fl.yelpcdn.com/bphoto/vaN49zFjUuHUXd4EUbB-bA/o.jpg',\n",
       "   'is_closed': False,\n",
       "   'url': 'https://www.yelp.com/biz/churro-co-austin-6?adjust_creative=F3qypMKtTmS20ke5XNx-Sg&utm_campaign=yelp_api_v3&utm_medium=api_v3_business_search&utm_source=F3qypMKtTmS20ke5XNx-Sg',\n",
       "   'review_count': 278,\n",
       "   'categories': [{'alias': 'desserts', 'title': 'Desserts'},\n",
       "    {'alias': 'foodtrucks', 'title': 'Food Trucks'}],\n",
       "   'rating': 4.5,\n",
       "   'coordinates': {'latitude': 30.24602, 'longitude': -97.75695},\n",
       "   'transactions': [],\n",
       "   'price': '$',\n",
       "   'location': {'address1': '1906 South 1st St',\n",
       "    'address2': None,\n",
       "    'address3': '',\n",
       "    'city': 'Austin',\n",
       "    'zip_code': '78704',\n",
       "    'country': 'US',\n",
       "    'state': 'TX',\n",
       "    'display_address': ['1906 South 1st St', 'Austin, TX 78704']},\n",
       "   'phone': '+15129055267',\n",
       "   'display_phone': '(512) 905-5267',\n",
       "   'distance': 6573.989627564328}],\n",
       " 'total': 1400,\n",
       " 'region': {'center': {'longitude': -97.75772094726562,\n",
       "   'latitude': 30.305156315977833}}}"
      ]
     },
     "execution_count": 4,
     "metadata": {},
     "output_type": "execute_result"
    }
   ],
   "source": [
    "data"
   ]
  },
  {
   "cell_type": "markdown",
   "metadata": {},
   "source": [
    "# Using APIs and JSON Data"
   ]
  },
  {
   "cell_type": "markdown",
   "metadata": {},
   "source": [
    "## Objectives\n",
    "You will be able to:\n",
    "* Access and manipulate data inside a JSON file\n",
    "* Pull data from an API and parse/transform the data"
   ]
  },
  {
   "cell_type": "markdown",
   "metadata": {},
   "source": [
    "## Agenda\n",
    "\n",
    "* Review JSON Schemas\n",
    "* Introduce APIs.\n",
    "* Walk through how to make an API request. \n",
    "* Practice making API requests and Parsing the data.\n"
   ]
  },
  {
   "cell_type": "markdown",
   "metadata": {},
   "source": [
    "### What is the difference between a JSON and a python dictionary?"
   ]
  },
  {
   "cell_type": "markdown",
   "metadata": {},
   "source": [
    "## Loading the JSON file\n",
    "\n",
    "As before, we begin by importing the json package, opening a file with python's built in function, and then loading that data in."
   ]
  },
  {
   "cell_type": "code",
   "execution_count": 5,
   "metadata": {},
   "outputs": [],
   "source": [
    "import json\n",
    "f = open('data.json')\n",
    "data = json.load(f)"
   ]
  },
  {
   "cell_type": "markdown",
   "metadata": {},
   "source": [
    "## Exploring JSON Schemas  \n",
    "\n",
    "Recall that JSON files have a nested structure. The most granular level of raw data will be individual numbers (float/int) and strings. These in turn will be stored in the equivalent of python lists and dictionaries. Because these can be combined, we'll start exploring by checking the type of our root object, and start mapping out the hierarchy of the json file."
   ]
  },
  {
   "cell_type": "code",
   "execution_count": 6,
   "metadata": {},
   "outputs": [
    {
     "data": {
      "text/plain": [
       "dict"
      ]
     },
     "execution_count": 6,
     "metadata": {},
     "output_type": "execute_result"
    }
   ],
   "source": [
    "type(data)"
   ]
  },
  {
   "cell_type": "code",
   "execution_count": 7,
   "metadata": {
    "collapsed": true
   },
   "outputs": [
    {
     "data": {
      "text/plain": [
       "{'businesses': [{'id': 'hYWsMDz0ms7TOnFTcsxYcw',\n",
       "   'alias': 'manolis-ice-cream-pastries-and-cakes-austin',\n",
       "   'name': 'Manolis Ice Cream, Pastries, & Cakes',\n",
       "   'image_url': 'https://s3-media2.fl.yelpcdn.com/bphoto/aAmOnvITNNjs04XnKFvSGw/o.jpg',\n",
       "   'is_closed': False,\n",
       "   'url': 'https://www.yelp.com/biz/manolis-ice-cream-pastries-and-cakes-austin?adjust_creative=F3qypMKtTmS20ke5XNx-Sg&utm_campaign=yelp_api_v3&utm_medium=api_v3_business_search&utm_source=F3qypMKtTmS20ke5XNx-Sg',\n",
       "   'review_count': 156,\n",
       "   'categories': [{'alias': 'desserts', 'title': 'Desserts'},\n",
       "    {'alias': 'icecream', 'title': 'Ice Cream & Frozen Yogurt'},\n",
       "    {'alias': 'bakeries', 'title': 'Bakeries'}],\n",
       "   'rating': 5.0,\n",
       "   'coordinates': {'latitude': 30.24441, 'longitude': -97.75808},\n",
       "   'transactions': ['pickup'],\n",
       "   'price': '$',\n",
       "   'location': {'address1': '603 W Live Oak St',\n",
       "    'address2': None,\n",
       "    'address3': '',\n",
       "    'city': 'Austin',\n",
       "    'zip_code': '78704',\n",
       "    'country': 'US',\n",
       "    'state': 'TX',\n",
       "    'display_address': ['603 W Live Oak St', 'Austin, TX 78704']},\n",
       "   'phone': '+15123875045',\n",
       "   'display_phone': '(512) 387-5045',\n",
       "   'distance': 6759.193628660178},\n",
       "  {'id': 'rfqq-rHTTipS5XSuOhxCXg',\n",
       "   'alias': 'dolce-neve-austin',\n",
       "   'name': 'Dolce Neve',\n",
       "   'image_url': 'https://s3-media2.fl.yelpcdn.com/bphoto/1DgEa_pgroGWjQeZasXo-Q/o.jpg',\n",
       "   'is_closed': False,\n",
       "   'url': 'https://www.yelp.com/biz/dolce-neve-austin?adjust_creative=F3qypMKtTmS20ke5XNx-Sg&utm_campaign=yelp_api_v3&utm_medium=api_v3_business_search&utm_source=F3qypMKtTmS20ke5XNx-Sg',\n",
       "   'review_count': 543,\n",
       "   'categories': [{'alias': 'gelato', 'title': 'Gelato'},\n",
       "    {'alias': 'icecream', 'title': 'Ice Cream & Frozen Yogurt'},\n",
       "    {'alias': 'coffee', 'title': 'Coffee & Tea'}],\n",
       "   'rating': 4.5,\n",
       "   'coordinates': {'latitude': 30.247625, 'longitude': -97.755404},\n",
       "   'transactions': [],\n",
       "   'price': '$',\n",
       "   'location': {'address1': '1713 S 1st St',\n",
       "    'address2': '',\n",
       "    'address3': '',\n",
       "    'city': 'Austin',\n",
       "    'zip_code': '78704',\n",
       "    'country': 'US',\n",
       "    'state': 'TX',\n",
       "    'display_address': ['1713 S 1st St', 'Austin, TX 78704']},\n",
       "   'phone': '+15128045568',\n",
       "   'display_phone': '(512) 804-5568',\n",
       "   'distance': 6401.051305407798},\n",
       "  {'id': 'TeVBtbf3Z8TC_wgddPWH7A',\n",
       "   'alias': 'scoop-and-score-cedar-park-4',\n",
       "   'name': 'Scoop & Score',\n",
       "   'image_url': 'https://s3-media1.fl.yelpcdn.com/bphoto/cbKYHyRn7FpveylAPX7VgA/o.jpg',\n",
       "   'is_closed': False,\n",
       "   'url': 'https://www.yelp.com/biz/scoop-and-score-cedar-park-4?adjust_creative=F3qypMKtTmS20ke5XNx-Sg&utm_campaign=yelp_api_v3&utm_medium=api_v3_business_search&utm_source=F3qypMKtTmS20ke5XNx-Sg',\n",
       "   'review_count': 130,\n",
       "   'categories': [{'alias': 'coffee', 'title': 'Coffee & Tea'},\n",
       "    {'alias': 'icecream', 'title': 'Ice Cream & Frozen Yogurt'}],\n",
       "   'rating': 5.0,\n",
       "   'coordinates': {'latitude': 30.5183617420555,\n",
       "    'longitude': -97.7906447595262},\n",
       "   'transactions': ['pickup', 'delivery'],\n",
       "   'price': '$',\n",
       "   'location': {'address1': '111 N Vista Ridge Blvd',\n",
       "    'address2': 'Ste 202',\n",
       "    'address3': '',\n",
       "    'city': 'Cedar Park',\n",
       "    'zip_code': '78613',\n",
       "    'country': 'US',\n",
       "    'state': 'TX',\n",
       "    'display_address': ['111 N Vista Ridge Blvd',\n",
       "     'Ste 202',\n",
       "     'Cedar Park, TX 78613']},\n",
       "   'phone': '+15123875383',\n",
       "   'display_phone': '(512) 387-5383',\n",
       "   'distance': 23916.645362565087},\n",
       "  {'id': 'YVdTl-VERcOig4MP1264Rw',\n",
       "   'alias': 'sweet-ritual-austin',\n",
       "   'name': 'Sweet Ritual',\n",
       "   'image_url': 'https://s3-media3.fl.yelpcdn.com/bphoto/6T0WLO2XvcrGkXSJgjL10Q/o.jpg',\n",
       "   'is_closed': False,\n",
       "   'url': 'https://www.yelp.com/biz/sweet-ritual-austin?adjust_creative=F3qypMKtTmS20ke5XNx-Sg&utm_campaign=yelp_api_v3&utm_medium=api_v3_business_search&utm_source=F3qypMKtTmS20ke5XNx-Sg',\n",
       "   'review_count': 509,\n",
       "   'categories': [{'alias': 'vegan', 'title': 'Vegan'},\n",
       "    {'alias': 'icecream', 'title': 'Ice Cream & Frozen Yogurt'}],\n",
       "   'rating': 4.5,\n",
       "   'coordinates': {'latitude': 30.30608, 'longitude': -97.71523},\n",
       "   'transactions': [],\n",
       "   'price': '$',\n",
       "   'location': {'address1': '4631 Airport Blvd',\n",
       "    'address2': 'Ste 114',\n",
       "    'address3': '',\n",
       "    'city': 'Austin',\n",
       "    'zip_code': '78751',\n",
       "    'country': 'US',\n",
       "    'state': 'TX',\n",
       "    'display_address': ['4631 Airport Blvd', 'Ste 114', 'Austin, TX 78751']},\n",
       "   'phone': '+15126668346',\n",
       "   'display_phone': '(512) 666-8346',\n",
       "   'distance': 4096.235786081973},\n",
       "  {'id': 'Qt92iz7b_3v_0BDGT0TLSA',\n",
       "   'alias': 'churro-co-austin-6',\n",
       "   'name': 'Churro Co',\n",
       "   'image_url': 'https://s3-media1.fl.yelpcdn.com/bphoto/vaN49zFjUuHUXd4EUbB-bA/o.jpg',\n",
       "   'is_closed': False,\n",
       "   'url': 'https://www.yelp.com/biz/churro-co-austin-6?adjust_creative=F3qypMKtTmS20ke5XNx-Sg&utm_campaign=yelp_api_v3&utm_medium=api_v3_business_search&utm_source=F3qypMKtTmS20ke5XNx-Sg',\n",
       "   'review_count': 278,\n",
       "   'categories': [{'alias': 'desserts', 'title': 'Desserts'},\n",
       "    {'alias': 'foodtrucks', 'title': 'Food Trucks'}],\n",
       "   'rating': 4.5,\n",
       "   'coordinates': {'latitude': 30.24602, 'longitude': -97.75695},\n",
       "   'transactions': [],\n",
       "   'price': '$',\n",
       "   'location': {'address1': '1906 South 1st St',\n",
       "    'address2': None,\n",
       "    'address3': '',\n",
       "    'city': 'Austin',\n",
       "    'zip_code': '78704',\n",
       "    'country': 'US',\n",
       "    'state': 'TX',\n",
       "    'display_address': ['1906 South 1st St', 'Austin, TX 78704']},\n",
       "   'phone': '+15129055267',\n",
       "   'display_phone': '(512) 905-5267',\n",
       "   'distance': 6573.989627564328}],\n",
       " 'total': 1400,\n",
       " 'region': {'center': {'longitude': -97.75772094726562,\n",
       "   'latitude': 30.305156315977833}}}"
      ]
     },
     "execution_count": 7,
     "metadata": {},
     "output_type": "execute_result"
    }
   ],
   "source": [
    "data"
   ]
  },
  {
   "cell_type": "markdown",
   "metadata": {},
   "source": [
    "As you can see, in this case, the first level of the hierarchy is a dictionary. Let's explore what keys are within this:"
   ]
  },
  {
   "cell_type": "code",
   "execution_count": 8,
   "metadata": {},
   "outputs": [
    {
     "data": {
      "text/plain": [
       "dict_keys(['businesses', 'total', 'region'])"
      ]
     },
     "execution_count": 8,
     "metadata": {},
     "output_type": "execute_result"
    }
   ],
   "source": [
    "data.keys()"
   ]
  },
  {
   "cell_type": "markdown",
   "metadata": {},
   "source": [
    "In this case, there is only a single key, 'albums', so we'll continue on down the pathway exploring and mapping out the hierarchy. Once again, let's start by checking the type of this nested data structure."
   ]
  },
  {
   "cell_type": "code",
   "execution_count": 10,
   "metadata": {},
   "outputs": [
    {
     "data": {
      "text/plain": [
       "list"
      ]
     },
     "execution_count": 10,
     "metadata": {},
     "output_type": "execute_result"
    }
   ],
   "source": [
    "type(data['businesses'])"
   ]
  },
  {
   "cell_type": "markdown",
   "metadata": {},
   "source": [
    "Now we have a list of within a dictionary. Once again, let's investigate what's within this list (JSON calls the equivalent of Python dictionaries Objects.)"
   ]
  },
  {
   "cell_type": "code",
   "execution_count": 17,
   "metadata": {},
   "outputs": [
    {
     "data": {
      "text/plain": [
       "{'id': 'hYWsMDz0ms7TOnFTcsxYcw',\n",
       " 'alias': 'manolis-ice-cream-pastries-and-cakes-austin',\n",
       " 'name': 'Manolis Ice Cream, Pastries, & Cakes',\n",
       " 'image_url': 'https://s3-media2.fl.yelpcdn.com/bphoto/aAmOnvITNNjs04XnKFvSGw/o.jpg',\n",
       " 'is_closed': False,\n",
       " 'url': 'https://www.yelp.com/biz/manolis-ice-cream-pastries-and-cakes-austin?adjust_creative=F3qypMKtTmS20ke5XNx-Sg&utm_campaign=yelp_api_v3&utm_medium=api_v3_business_search&utm_source=F3qypMKtTmS20ke5XNx-Sg',\n",
       " 'review_count': 156,\n",
       " 'categories': [{'alias': 'desserts', 'title': 'Desserts'},\n",
       "  {'alias': 'icecream', 'title': 'Ice Cream & Frozen Yogurt'},\n",
       "  {'alias': 'bakeries', 'title': 'Bakeries'}],\n",
       " 'rating': 5.0,\n",
       " 'coordinates': {'latitude': 30.24441, 'longitude': -97.75808},\n",
       " 'transactions': ['pickup'],\n",
       " 'price': '$',\n",
       " 'location': {'address1': '603 W Live Oak St',\n",
       "  'address2': None,\n",
       "  'address3': '',\n",
       "  'city': 'Austin',\n",
       "  'zip_code': '78704',\n",
       "  'country': 'US',\n",
       "  'state': 'TX',\n",
       "  'display_address': ['603 W Live Oak St', 'Austin, TX 78704']},\n",
       " 'phone': '+15123875045',\n",
       " 'display_phone': '(512) 387-5045',\n",
       " 'distance': 6759.193628660178}"
      ]
     },
     "execution_count": 17,
     "metadata": {},
     "output_type": "execute_result"
    }
   ],
   "source": [
    "data['businesses'][0]"
   ]
  },
  {
   "cell_type": "code",
   "execution_count": 16,
   "metadata": {},
   "outputs": [
    {
     "data": {
      "text/plain": [
       "dict_keys(['id', 'alias', 'name', 'image_url', 'is_closed', 'url', 'review_count', 'categories', 'rating', 'coordinates', 'transactions', 'price', 'location', 'phone', 'display_phone', 'distance'])"
      ]
     },
     "execution_count": 16,
     "metadata": {},
     "output_type": "execute_result"
    }
   ],
   "source": [
    "data['businesses'][0].keys()"
   ]
  },
  {
   "cell_type": "markdown",
   "metadata": {},
   "source": [
    "At this point, you also probably have a good idea of the general structure of the json file. However, there is still a lot more we could investigate further:"
   ]
  },
  {
   "cell_type": "markdown",
   "metadata": {},
   "source": [
    "## What is an API?"
   ]
  },
  {
   "cell_type": "markdown",
   "metadata": {},
   "source": [
    "**Application Program Interfaces**, or APIs, are commonly used to retrieve data from remote websites. Sites like Reddit, Twitter, and Facebook all offer certain data through their APIs. \n",
    "\n",
    "To use an API, you make a request to a remote web server, and retrieve the data you need."
   ]
  },
  {
   "cell_type": "markdown",
   "metadata": {},
   "source": [
    "Python with two built-in modules, `urllib` and `urllib2` to handle these requests but these could be very confusing  and the documentation is not clear.\n",
    "\n",
    "To make these things simpler, one easy-to-use third-party library, known as` Requests`, is what most developers prefer to use it instead or urllib/urllib2. With this library, you can access content like web page headers, form data, files, and parameters via simple Python commands. It also allows you to access the response data in a simple way."
   ]
  },
  {
   "cell_type": "markdown",
   "metadata": {},
   "source": [
    "![](logo.png)"
   ]
  },
  {
   "cell_type": "markdown",
   "metadata": {},
   "source": [
    "Below is how you would install and import the requests library before making any requests. \n",
    "```python\n",
    "# Uncomment and install requests if you dont have it already\n",
    "# !pip install requests\n",
    "\n",
    "# Import requests to working environment\n",
    "import requests\n",
    "```"
   ]
  },
  {
   "cell_type": "code",
   "execution_count": 18,
   "metadata": {},
   "outputs": [],
   "source": [
    "import requests\n"
   ]
  },
  {
   "cell_type": "markdown",
   "metadata": {},
   "source": [
    "\n",
    "## The `.get()` Method\n",
    "\n",
    "Now we have requests library ready in our working environment, we can start making some requests using the `.get()` method as shown below:\n",
    "\n",
    "\n",
    "We can use a simple GET request to retrieve information from the OpenNotify API.\n",
    "\n",
    "\n",
    "\n",
    "\n",
    "OpenNotify has several API endpoints. An endpoint is a server route that is used to retrieve different data from the API. For example, the /comments endpoint on the Reddit API might retrieve information about comments, whereas the /users endpoint might retrieve data about users. To access them, you would add the endpoint to the base url of the API.\n",
    "\n"
   ]
  },
  {
   "cell_type": "code",
   "execution_count": 19,
   "metadata": {},
   "outputs": [
    {
     "name": "stdout",
     "output_type": "stream",
     "text": [
      "200\n"
     ]
    }
   ],
   "source": [
    "# Make a get request to get the latest position of the international space station from the opennotify api.\n",
    "response = requests.get(\"http://api.open-notify.org/iss-now.json\")\n",
    "# Print the status code of the response.\n",
    "print(response.status_code)"
   ]
  },
  {
   "cell_type": "markdown",
   "metadata": {},
   "source": [
    "\n",
    "GET is by far the most used HTTP method. We can use GET request to retrieve data from any destination. \n",
    "GET is by far the most used HTTP method. We can use GET request to retrieve data from any destination. \n",
    "\n",
    "## Status Codes\n",
    "The request we make may not be always successful. The best way is to check the status code which gets returned with the response. Here is how you would do this. \n"
   ]
  },
  {
   "cell_type": "code",
   "execution_count": 20,
   "metadata": {},
   "outputs": [
    {
     "data": {
      "text/plain": [
       "True"
      ]
     },
     "execution_count": 20,
     "metadata": {},
     "output_type": "execute_result"
    }
   ],
   "source": [
    "# Code here \n",
    "response.status_code == requests.codes.ok"
   ]
  },
  {
   "cell_type": "markdown",
   "metadata": {},
   "source": [
    "So this is a good check to see if our request was successful. Depending on the status of the web server, the access rights of the clients and availibility of requested information. A web server may return a number of status codes within the response. Wikipedia has an exhaustive details on all these codes. [Check them out here](https://en.wikipedia.org/wiki/List_of_HTTP_status_codes)"
   ]
  },
  {
   "cell_type": "markdown",
   "metadata": {},
   "source": [
    "### Common status codes\n",
    "\n",
    "* 200 — everything went okay, and the result has been returned (if any)\n",
    "* 301 — the server is redirecting you to a different endpoint. This can happen when a company switches domain names, or an endpoint name is changed.\n",
    "* 401 — the server thinks you’re not authenticated. This happens when you don’t send the right credentials to access an API (we’ll talk about authentication in a later post).\n",
    "* 400 — the server thinks you made a bad request. This can happen when you don’t send along the right data, among other things.\n",
    "* 403 — the resource you’re trying to access is forbidden — you don’t have the right permissions to see it.\n",
    "* 404 — the resource you tried to access wasn’t found on the server."
   ]
  },
  {
   "cell_type": "code",
   "execution_count": 24,
   "metadata": {},
   "outputs": [
    {
     "name": "stdout",
     "output_type": "stream",
     "text": [
      "404\n"
     ]
    }
   ],
   "source": [
    "request2 = requests.get('http://api.open-notify.org/fake-endpoint')\n",
    "print(request2.status_code)"
   ]
  },
  {
   "cell_type": "markdown",
   "metadata": {},
   "source": [
    "### Hitting the right endpoint\n",
    "iss-pass wasn’t a valid endpoint, so we got a 404 status code in response. We forgot to add `.json` at the end, as the API documentation states.\n",
    "\n",
    "We’ll now make a GET request to http://api.open-notify.org/iss-pass.json."
   ]
  },
  {
   "cell_type": "markdown",
   "metadata": {},
   "source": [
    "\n",
    "## Response Contents\n",
    "Once we know that our request was successful and we have a valid response, we can check the returned information using `.text` property of the response object. \n",
    "```python\n",
    "print (resp.text)\n",
    "```"
   ]
  },
  {
   "cell_type": "code",
   "execution_count": 25,
   "metadata": {},
   "outputs": [
    {
     "name": "stdout",
     "output_type": "stream",
     "text": [
      "{\"message\": \"success\", \"people\": [{\"name\": \"Alexey Ovchinin\", \"craft\": \"ISS\"}, {\"name\": \"Nick Hague\", \"craft\": \"ISS\"}, {\"name\": \"Christina Koch\", \"craft\": \"ISS\"}, {\"name\": \"Alexander Skvortsov\", \"craft\": \"ISS\"}, {\"name\": \"Luca Parmitano\", \"craft\": \"ISS\"}, {\"name\": \"Andrew Morgan\", \"craft\": \"ISS\"}], \"number\": 6}\n"
     ]
    }
   ],
   "source": [
    "people = requests.get('http://api.open-notify.org/astros.json')\n",
    "print(people.text)"
   ]
  },
  {
   "cell_type": "markdown",
   "metadata": {},
   "source": [
    "### Query parameters\n",
    "\n",
    "If you look at the documentation for the OpenNotify API, we see that the ISS Pass endpoint requires two parameters.\n",
    "\n",
    "We can do this by adding an optional keyword argument, params, to our request. In this case, there are two parameters we need to pass:\n",
    "\n",
    "* lat — The latitude of the location we want.\n",
    "* lon — The longitude of the location we want.\n",
    "We can make a dictionary with these parameters, and then pass them into the requests.get function.\n",
    "\n",
    "We can also do the same thing directly by adding the query parameters to the url, like this: http://api.open-notify.org/iss-pass.json?lat=40.71&lon=-74.\n",
    "\n",
    "It’s almost always preferable to setup the parameters as a dictionary, because requests takes care of some things that come up, like properly formatting the query parameters.\n",
    "\n",
    "We’ll make a request using the coordinates of New York City, and see what response we get."
   ]
  },
  {
   "cell_type": "code",
   "execution_count": 29,
   "metadata": {},
   "outputs": [
    {
     "name": "stdout",
     "output_type": "stream",
     "text": [
      "b'{\\n  \"message\": \"success\", \\n  \"request\": {\\n    \"altitude\": 100, \\n    \"datetime\": 1564059528, \\n    \"latitude\": 40.71, \\n    \"longitude\": -74.0, \\n    \"passes\": 5\\n  }, \\n  \"response\": [\\n    {\\n      \"duration\": 574, \\n      \"risetime\": 1564090167\\n    }, \\n    {\\n      \"duration\": 649, \\n      \"risetime\": 1564095912\\n    }, \\n    {\\n      \"duration\": 583, \\n      \"risetime\": 1564101779\\n    }, \\n    {\\n      \"duration\": 560, \\n      \"risetime\": 1564107654\\n    }, \\n    {\\n      \"duration\": 627, \\n      \"risetime\": 1564113470\\n    }\\n  ]\\n}\\n'\n"
     ]
    }
   ],
   "source": [
    "# Set up the parameters we want to pass to the API.\n",
    "# This is the latitude and longitude of New York City.\n",
    "parameters = {\"lat\": 40.71, \"lon\": -74}\n",
    "\n",
    "\n",
    "# Make a get request with the parameters.\n",
    "response = requests.get(\"http://api.open-notify.org/iss-pass.json\", params=parameters)\n",
    "\n",
    "\n",
    "# Print the content of the response (the data the server returned)\n",
    "print(response.content)\n"
   ]
  },
  {
   "cell_type": "markdown",
   "metadata": {},
   "source": [
    "Now we want to convert the response into a python data structure. We do this by using the `json` package."
   ]
  },
  {
   "cell_type": "code",
   "execution_count": 32,
   "metadata": {},
   "outputs": [
    {
     "data": {
      "text/plain": [
       "{'message': 'success',\n",
       " 'request': {'altitude': 100,\n",
       "  'datetime': 1564059528,\n",
       "  'latitude': 40.71,\n",
       "  'longitude': -74.0,\n",
       "  'passes': 5},\n",
       " 'response': [{'duration': 574, 'risetime': 1564090167},\n",
       "  {'duration': 649, 'risetime': 1564095912},\n",
       "  {'duration': 583, 'risetime': 1564101779},\n",
       "  {'duration': 560, 'risetime': 1564107654},\n",
       "  {'duration': 627, 'risetime': 1564113470}]}"
      ]
     },
     "execution_count": 32,
     "metadata": {},
     "output_type": "execute_result"
    }
   ],
   "source": [
    "json.loads(response.content)"
   ]
  },
  {
   "cell_type": "markdown",
   "metadata": {},
   "source": [
    "So this returns a lot of information which by default is not really human understandable due to data encoding, HTML tags and other styling information that only a web browser can truly translate. In later lessons we shall look at how we can use ** Regular Exprerssions**  to clean this information and extract the required bits and pieces for analysis. \n",
    "\n",
    "## Response Headers\n",
    "The response of an HTTP request can contain many headers that holds different bits of information. We can use `.header` property of the response object to access the header information as shown below:\n"
   ]
  },
  {
   "cell_type": "code",
   "execution_count": 33,
   "metadata": {},
   "outputs": [
    {
     "data": {
      "text/plain": [
       "{'Server': 'nginx/1.10.3',\n",
       " 'Date': 'Thu, 25 Jul 2019 13:40:28 GMT',\n",
       " 'Content-Type': 'application/json',\n",
       " 'Content-Length': '519',\n",
       " 'Connection': 'keep-alive',\n",
       " 'Via': '1.1 vegur'}"
      ]
     },
     "execution_count": 33,
     "metadata": {},
     "output_type": "execute_result"
    }
   ],
   "source": [
    "# Code here \n",
    "dict(response.headers)"
   ]
  },
  {
   "cell_type": "markdown",
   "metadata": {},
   "source": [
    "The content of the headers is our required element. You can see the key-value pairs holding various pieces of  information about the resource and request. Let's try to parse some of these values using the requests library:\n",
    "\n",
    "```python\n",
    "print(resp.headers['Content-Length'])  # length of the response\n",
    "print(resp.headers['Date'])  # Date the response was sent\n",
    "print(resp.headers['server'])   # Server type (google web service - GWS)\n",
    "```"
   ]
  },
  {
   "cell_type": "markdown",
   "metadata": {},
   "source": [
    "\n",
    "## HTTP POST method \n",
    "\n",
    "Sometimes we need to send one or more files simultaneously to the server. For example, if a user is submitting a form and the form includes different fields for uploading files, like user profile picture, user resume, etc. Requests can handle multiple files on a single request. This can be achieved by putting the files to a list of tuples in the form (`field_name, file_info)`.\n",
    "\n",
    "\n",
    "```python\n",
    "import requests\n",
    "\n",
    "url = 'http://httpbin.org/post'  \n",
    "file_list = [  \n",
    "    ('image', ('fi.png', open('fi.png', 'rb'), 'image/png')),\n",
    "    ('image', ('fi2.jpeg', open('fi2.jpeg', 'rb'), 'image/png'))\n",
    "]\n",
    "\n",
    "r = requests.post(url, files=file_list)  \n",
    "print(r.text)  \n",
    "```"
   ]
  },
  {
   "cell_type": "markdown",
   "metadata": {},
   "source": [
    "![](quota.png)"
   ]
  },
  {
   "cell_type": "markdown",
   "metadata": {},
   "source": [
    "\n",
    "## Generating Access Tokens\n",
    "\n",
    "As discussed, in order to use many APIs, one needs to use OAuth which requires an access token. As such, our first step will be to generate this login information so that we can start making some requests.  \n",
    "\n",
    "With that, lets go grab an access token from an API site and make some API calls!\n",
    "Point your browser over to this [yelp page](https://www.yelp.com/developers/v3/manage_app) and start creating an app in order to obtain and api access token:"
   ]
  },
  {
   "cell_type": "markdown",
   "metadata": {},
   "source": [
    "\n",
    "![](./images/yelp_app.png)"
   ]
  },
  {
   "cell_type": "markdown",
   "metadata": {},
   "source": [
    "You can either sign in to an existing Yelp account, or create a new one, if needed.\n",
    "\n",
    "On the page you see above, simply fill out some sample information such as \"Flatiron Edu API Example\" for the app name, or whatever floats your boat. Afterwards, you should be presented with an API key that you can use to make requests!\n",
    "\n",
    "With that, it's time to start making some api calls!"
   ]
  },
  {
   "cell_type": "markdown",
   "metadata": {},
   "source": [
    "As a general rule of thumb, don't store passwords in a main file like this! Instead, you would normally store those passwords under a sub file like passwords.py which you would then import.\n",
    "\n",
    "Or even better, as an environment variable that could then be imported!\n"
   ]
  },
  {
   "cell_type": "code",
   "execution_count": 35,
   "metadata": {},
   "outputs": [],
   "source": [
    "\n",
    "client_id = 'bVX1Jsfp4dkIOqw5HOVplg' #Your client ID goes here (as a string)\n",
    "api_key = 'RTzp-q-TgkJW_NFQogubFvZNRDziXyoR38VbtZMWibDI-FlvB25OE7GmafFEqhTL8_Bk2HlcX24-hRWLMP7Nc6WHO_VXMXldpPBjP0LoPv5EFFELMSI2oll8njhbXHYx' #Your api key goes here (as a string)"
   ]
  },
  {
   "cell_type": "markdown",
   "metadata": {},
   "source": [
    "## An Example Request with OAuth <a id=\"oauth_request\"></a>\n",
    "https://www.yelp.com/developers/documentation/v3/get_started\n",
    "\n",
    "In the next lesson, we'll further dissect how to read and translate online documentation like the link here. For now, let's simply look at an example request and dissect it into its consituent parts:"
   ]
  },
  {
   "cell_type": "code",
   "execution_count": 36,
   "metadata": {},
   "outputs": [
    {
     "name": "stdout",
     "output_type": "stream",
     "text": [
      "<Response [200]>\n",
      "<class 'str'>\n",
      "{\"businesses\": [{\"id\": \"jzVv_21473lAMYXIhVbuTA\", \"alias\": \"de-mole-astoria-astoria\", \"name\": \"De Mole Astoria\", \"image_url\": \"https://s3-media1.fl.yelpcdn.com/bphoto/zZTTfdIGbQkQQptgQmin1A/o.jpg\", \"is_closed\": false, \"url\": \"https://www.yelp.com/biz/de-mole-astoria-astoria?adjust_creative=bVX1Jsfp4dkIOqw5HOVplg&utm_campaign=yelp_api_v3&utm_medium=api_v3_business_search&utm_source=bVX1Jsfp4dkIOqw5HOVplg\", \"review_count\": 354, \"categories\": [{\"alias\": \"mexican\", \"title\": \"Mexican\"}], \"rating\": 4.0, \"coordinates\": {\"latitude\": 40.7625999, \"longitude\": -73.9129028}, \"transactions\": [\"delivery\", \"pickup\"], \"price\": \"$$\", \"location\": {\"address1\": \"4220 30th Ave\", \"address2\": \"\", \"address3\": \"\", \"city\": \"Astoria\", \"zip_code\": \"11103\", \"country\": \"US\", \"state\": \"NY\", \"display_address\": [\"4220 30th Ave\", \"Astoria, NY 11103\"]}, \"phone\": \"+17187771655\", \"display_phone\": \"(718) 777-1655\", \"distance\": 918.0927716406379}, {\"id\": \"yvva7IYpD6J7OfKlCdQrkw\", \"alias\": \"mi-espiguita-taqueria-astoria\", \"na\n"
     ]
    }
   ],
   "source": [
    "term = 'Mexican'\n",
    "location = 'Astoria NY'\n",
    "SEARCH_LIMIT = 10\n",
    "\n",
    "url = 'https://api.yelp.com/v3/businesses/search'\n",
    "\n",
    "headers = {\n",
    "        'Authorization': 'Bearer {}'.format(api_key),\n",
    "    }\n",
    "\n",
    "url_params = {\n",
    "                'term': term.replace(' ', '+'),\n",
    "                'location': location.replace(' ', '+'),\n",
    "                'limit': SEARCH_LIMIT\n",
    "            }\n",
    "response = requests.get(url, headers=headers, params=url_params)\n",
    "print(response)\n",
    "print(type(response.text))\n",
    "print(response.text[:1000])"
   ]
  },
  {
   "cell_type": "markdown",
   "metadata": {},
   "source": [
    "## Breaking Down the Request\n",
    "\n",
    "As you can see, there are three main parts to our request.  \n",
    "  \n",
    "They are:\n",
    "* The url\n",
    "* The header\n",
    "* The parameters\n",
    "  \n",
    "The url is fairly straightforward and is simply the base url as described in the documentation (again more details in the upcoming lesson).\n",
    "\n",
    "The header is a dictionary of key-value pairs. In this case, we are using a fairly standard header used by many APIs. It has a strict form where 'Authorization' is the key and 'Bearer YourApiKey' is the value.\n",
    "\n",
    "The parameters are the filters which we wish to pass into the query. These will be embedded into the url when the request is made to the api. Similar to the header, they form key-value pairs. Valid key parameters by which to structure your queries, are described in the API documentation which we'll look at further shortly. A final important note however, is the need to replace spaces with \"+\". This is standard to many requests as URLs cannot contain spaces. (Note that the header itself isn't directly embedded into the url itself and as such, the space between 'Bearer' and YourApiKey is valid.)"
   ]
  },
  {
   "cell_type": "markdown",
   "metadata": {},
   "source": [
    "\n",
    "## The Response\n",
    "\n",
    "As before, our response object has both a status code, as well as the data itself. With that, let's start with a little data exploration!"
   ]
  },
  {
   "cell_type": "code",
   "execution_count": 37,
   "metadata": {},
   "outputs": [
    {
     "data": {
      "text/plain": [
       "dict_keys(['businesses', 'total', 'region'])"
      ]
     },
     "execution_count": 37,
     "metadata": {},
     "output_type": "execute_result"
    }
   ],
   "source": [
    "response.json().keys()\n"
   ]
  },
  {
   "cell_type": "markdown",
   "metadata": {},
   "source": [
    "Now let's go a bit further and start to preview what's stored in each of the values for these keys.\n"
   ]
  },
  {
   "cell_type": "code",
   "execution_count": 38,
   "metadata": {},
   "outputs": [
    {
     "name": "stdout",
     "output_type": "stream",
     "text": [
      "businesses\n",
      "<class 'list'>\n",
      "\n",
      "\n",
      "\n",
      "total\n",
      "<class 'int'>\n",
      "\n",
      "\n",
      "\n",
      "region\n",
      "<class 'dict'>\n",
      "\n",
      "\n",
      "\n"
     ]
    }
   ],
   "source": [
    "for key in response.json().keys():\n",
    "    print(key)\n",
    "    value = response.json()[key] #Use standard dictionary formatting\n",
    "    print(type(value)) #What type is it?\n",
    "    print('\\n\\n') #Seperate out data"
   ]
  },
  {
   "cell_type": "markdown",
   "metadata": {},
   "source": [
    "Let's continue to preview these further to get a little better acquainted.\n"
   ]
  },
  {
   "cell_type": "code",
   "execution_count": 39,
   "metadata": {
    "scrolled": true
   },
   "outputs": [
    {
     "data": {
      "text/plain": [
       "[{'id': 'jzVv_21473lAMYXIhVbuTA',\n",
       "  'alias': 'de-mole-astoria-astoria',\n",
       "  'name': 'De Mole Astoria',\n",
       "  'image_url': 'https://s3-media1.fl.yelpcdn.com/bphoto/zZTTfdIGbQkQQptgQmin1A/o.jpg',\n",
       "  'is_closed': False,\n",
       "  'url': 'https://www.yelp.com/biz/de-mole-astoria-astoria?adjust_creative=bVX1Jsfp4dkIOqw5HOVplg&utm_campaign=yelp_api_v3&utm_medium=api_v3_business_search&utm_source=bVX1Jsfp4dkIOqw5HOVplg',\n",
       "  'review_count': 354,\n",
       "  'categories': [{'alias': 'mexican', 'title': 'Mexican'}],\n",
       "  'rating': 4.0,\n",
       "  'coordinates': {'latitude': 40.7625999, 'longitude': -73.9129028},\n",
       "  'transactions': ['delivery', 'pickup'],\n",
       "  'price': '$$',\n",
       "  'location': {'address1': '4220 30th Ave',\n",
       "   'address2': '',\n",
       "   'address3': '',\n",
       "   'city': 'Astoria',\n",
       "   'zip_code': '11103',\n",
       "   'country': 'US',\n",
       "   'state': 'NY',\n",
       "   'display_address': ['4220 30th Ave', 'Astoria, NY 11103']},\n",
       "  'phone': '+17187771655',\n",
       "  'display_phone': '(718) 777-1655',\n",
       "  'distance': 918.0927716406379},\n",
       " {'id': 'yvva7IYpD6J7OfKlCdQrkw',\n",
       "  'alias': 'mi-espiguita-taqueria-astoria',\n",
       "  'name': 'Mi Espiguita Taqueria',\n",
       "  'image_url': 'https://s3-media2.fl.yelpcdn.com/bphoto/TEho39G01VJX05mNhI8W8A/o.jpg',\n",
       "  'is_closed': False,\n",
       "  'url': 'https://www.yelp.com/biz/mi-espiguita-taqueria-astoria?adjust_creative=bVX1Jsfp4dkIOqw5HOVplg&utm_campaign=yelp_api_v3&utm_medium=api_v3_business_search&utm_source=bVX1Jsfp4dkIOqw5HOVplg',\n",
       "  'review_count': 109,\n",
       "  'categories': [{'alias': 'mexican', 'title': 'Mexican'}],\n",
       "  'rating': 4.5,\n",
       "  'coordinates': {'latitude': 40.7612033639422,\n",
       "   'longitude': -73.9261436462402},\n",
       "  'transactions': ['delivery', 'pickup'],\n",
       "  'price': '$',\n",
       "  'location': {'address1': '32-44 31st St',\n",
       "   'address2': '',\n",
       "   'address3': '',\n",
       "   'city': 'Astoria',\n",
       "   'zip_code': '11106',\n",
       "   'country': 'US',\n",
       "   'state': 'NY',\n",
       "   'display_address': ['32-44 31st St', 'Astoria, NY 11106']},\n",
       "  'phone': '+17187775648',\n",
       "  'display_phone': '(718) 777-5648',\n",
       "  'distance': 714.301080232381}]"
      ]
     },
     "execution_count": 39,
     "metadata": {},
     "output_type": "execute_result"
    }
   ],
   "source": [
    "yelp_data =response.json()\n",
    "yelp_data['businesses'][:2]\n",
    "\n"
   ]
  },
  {
   "cell_type": "markdown",
   "metadata": {},
   "source": [
    "As you can see, we're primarily interested in the 'bussinesses' entry. \n"
   ]
  },
  {
   "cell_type": "markdown",
   "metadata": {},
   "source": [
    "## Summary <a id=\"sum\"></a>\n",
    "\n",
    "Congratulations! We've covered a lot here! We took some of your previous knowledge with HTTP requests and OAuth in order to leverage an enterprise API! Then we made some requests to retrieve information that came back as a json format. We then transformed this data into a dataframe using the Pandas package. In the next lab, we'll break down how to read API documentation and then put it all together to make a nifty map!"
   ]
  }
 ],
 "metadata": {
  "kernelspec": {
   "display_name": "Python 3",
   "language": "python",
   "name": "python3"
  },
  "language_info": {
   "codemirror_mode": {
    "name": "ipython",
    "version": 3
   },
   "file_extension": ".py",
   "mimetype": "text/x-python",
   "name": "python",
   "nbconvert_exporter": "python",
   "pygments_lexer": "ipython3",
   "version": "3.7.3"
  }
 },
 "nbformat": 4,
 "nbformat_minor": 2
}
